{
 "cells": [
  {
   "cell_type": "markdown",
   "metadata": {},
   "source": [
    "# Stima dell'Aspettativa di Vita\n",
    "\n",
    "**Programmazione di Applicazioni Data Intensive** A.A. 2018/2019 \n",
    "\n",
    "Laurea Magistrale in Ingegneria Elettronica e Telecomunicazioni per l'Energia  \n",
    "Università di Bologna, Cesena\n",
    "\n",
    "- Federico Di Luca \n",
    "- Andrea Bellanca\n",
    "- Enrico Bertozzi"
   ]
  },
  {
   "cell_type": "markdown",
   "metadata": {},
   "source": [
    "## Descrizione del Problema e Comprensione dei Dati\n",
    "### Descrizione del Database\n",
    "\n",
    "Si intende effettuare la previsione della variabile continua \"Aspettativa di Vita\" tramite regressione. Per tale analisi, si è scelto di utilizzare il dataset \"Life Expectancy (WHO)\", di Kaggle ( https://www.kaggle.com/augustus0498/life-expectancy-who ). \n",
    "\n",
    "- Di seguito si riporta una breve descrizione del dataset considerato.\n",
    "\n",
    "L'archivio di dati Global Health Observatory (GHO) sotto Organizzazione Mondiale della Sanità (OMS) tiene traccia dello stato di salute, così come di molti altri fattori correlati allo stesso, per tutti i paesi del mondo. I dataset sono resi disponibili al pubblico ai fini dell'analisi dei dati sanitari. \n",
    "In particolare, il dataset considerato relativo all'aspettativa di vita, è stato redatto dallo stesso sito web dell'OMS, insieme al sito web di United Nation che ha contribuito raccogliendo i relativi dati economici riportati sullo stesso.\n",
    "\n",
    "I singoli file di dati sono stati uniti in un unico dataset. Dall'ispezione visiva iniziale dei dati sono emersi alcuni valori mancanti. Poiché i set di dati erano dell'OMS, non sono stati riscontrati errori evidenti. La maggior parte dei dati mancanti riguardava la popolazione, l'epatite B e il PIL. Questi provenivano tutti da paesi meno conosciuti come Vanuatu, Tonga, Togo, Capo Verde ecc. Si è deciso dunque di escludere questi paesi dal set di dati del modello finale. \n",
    "\n",
    "Tra tutte le categorie di fattori legati alla salute sono stati scelti solo i fattori critici più rappresentativi. In definitiva, in questo progetto sono stati considerati i dati relativi al periodo 2000-2015 per 193 paesi. \n",
    "Il dataset finale è composto da 22 colonne e 2938 righe, 19 variabili predittive. Tutte le variabili predittive potranno poi essere di nuovo suddivise in ampie categorie: fattori legati all'immunizzazione, fattori di mortalità, fattori economici e fattori sociali."
   ]
  },
  {
   "cell_type": "code",
   "execution_count": 1,
   "metadata": {},
   "outputs": [],
   "source": [
    "import numpy as np\n",
    "import pandas as pd\n",
    "import matplotlib.pyplot as plt\n",
    "import seaborn as sns\n",
    "import os # accessing directory structure"
   ]
  },
  {
   "cell_type": "code",
   "execution_count": 2,
   "metadata": {},
   "outputs": [],
   "source": [
    "%matplotlib inline"
   ]
  },
  {
   "cell_type": "code",
   "execution_count": 3,
   "metadata": {},
   "outputs": [],
   "source": [
    "import os.path\n",
    "if not os.path.exists(\"led.csv\"):\n",
    "    from urllib.request import urlretrieve\n",
    "    urlretrieve(\"https://raw.githubusercontent.com/data-intensive-team/data-intensive-unibo/1834fa4f71d802fc301f4c10013b65fa7b7ba8a0/led.csv\", \"led.csv\") \n",
    "led = pd.read_csv(\"led.csv\")"
   ]
  },
  {
   "cell_type": "code",
   "execution_count": 4,
   "metadata": {},
   "outputs": [
    {
     "data": {
      "text/html": [
       "<div>\n",
       "<style scoped>\n",
       "    .dataframe tbody tr th:only-of-type {\n",
       "        vertical-align: middle;\n",
       "    }\n",
       "\n",
       "    .dataframe tbody tr th {\n",
       "        vertical-align: top;\n",
       "    }\n",
       "\n",
       "    .dataframe thead th {\n",
       "        text-align: right;\n",
       "    }\n",
       "</style>\n",
       "<table border=\"1\" class=\"dataframe\">\n",
       "  <thead>\n",
       "    <tr style=\"text-align: right;\">\n",
       "      <th></th>\n",
       "      <th>Country</th>\n",
       "      <th>Year</th>\n",
       "      <th>Status</th>\n",
       "      <th>Lifeexpectancy</th>\n",
       "      <th>AdultMortality</th>\n",
       "      <th>infantdeaths</th>\n",
       "      <th>Alcohol</th>\n",
       "      <th>percentageexpenditure</th>\n",
       "      <th>HepatitisB</th>\n",
       "      <th>Measles</th>\n",
       "      <th>...</th>\n",
       "      <th>Polio</th>\n",
       "      <th>Totalexpenditure</th>\n",
       "      <th>Diphtheria</th>\n",
       "      <th>HIV/AIDS</th>\n",
       "      <th>GDP</th>\n",
       "      <th>Population</th>\n",
       "      <th>thinness1-19years</th>\n",
       "      <th>thinness5-9years</th>\n",
       "      <th>Incomecompositionofresources</th>\n",
       "      <th>Schooling</th>\n",
       "    </tr>\n",
       "  </thead>\n",
       "  <tbody>\n",
       "    <tr>\n",
       "      <th>0</th>\n",
       "      <td>Afghanistan</td>\n",
       "      <td>2015</td>\n",
       "      <td>Developing</td>\n",
       "      <td>65.0</td>\n",
       "      <td>263.0</td>\n",
       "      <td>62</td>\n",
       "      <td>0.01</td>\n",
       "      <td>71.279624</td>\n",
       "      <td>65.0</td>\n",
       "      <td>1154</td>\n",
       "      <td>...</td>\n",
       "      <td>6.0</td>\n",
       "      <td>8.16</td>\n",
       "      <td>65.0</td>\n",
       "      <td>0.1</td>\n",
       "      <td>584.259210</td>\n",
       "      <td>33736494.0</td>\n",
       "      <td>17.2</td>\n",
       "      <td>17.3</td>\n",
       "      <td>0.479</td>\n",
       "      <td>10.1</td>\n",
       "    </tr>\n",
       "    <tr>\n",
       "      <th>1</th>\n",
       "      <td>Afghanistan</td>\n",
       "      <td>2014</td>\n",
       "      <td>Developing</td>\n",
       "      <td>59.9</td>\n",
       "      <td>271.0</td>\n",
       "      <td>64</td>\n",
       "      <td>0.01</td>\n",
       "      <td>73.523582</td>\n",
       "      <td>62.0</td>\n",
       "      <td>492</td>\n",
       "      <td>...</td>\n",
       "      <td>58.0</td>\n",
       "      <td>8.18</td>\n",
       "      <td>62.0</td>\n",
       "      <td>0.1</td>\n",
       "      <td>612.696514</td>\n",
       "      <td>327582.0</td>\n",
       "      <td>17.5</td>\n",
       "      <td>17.5</td>\n",
       "      <td>0.476</td>\n",
       "      <td>10.0</td>\n",
       "    </tr>\n",
       "    <tr>\n",
       "      <th>2</th>\n",
       "      <td>Afghanistan</td>\n",
       "      <td>2013</td>\n",
       "      <td>Developing</td>\n",
       "      <td>59.9</td>\n",
       "      <td>268.0</td>\n",
       "      <td>66</td>\n",
       "      <td>0.01</td>\n",
       "      <td>73.219243</td>\n",
       "      <td>64.0</td>\n",
       "      <td>430</td>\n",
       "      <td>...</td>\n",
       "      <td>62.0</td>\n",
       "      <td>8.13</td>\n",
       "      <td>64.0</td>\n",
       "      <td>0.1</td>\n",
       "      <td>631.744976</td>\n",
       "      <td>31731688.0</td>\n",
       "      <td>17.7</td>\n",
       "      <td>17.7</td>\n",
       "      <td>0.470</td>\n",
       "      <td>9.9</td>\n",
       "    </tr>\n",
       "    <tr>\n",
       "      <th>3</th>\n",
       "      <td>Afghanistan</td>\n",
       "      <td>2012</td>\n",
       "      <td>Developing</td>\n",
       "      <td>59.5</td>\n",
       "      <td>272.0</td>\n",
       "      <td>69</td>\n",
       "      <td>0.01</td>\n",
       "      <td>78.184215</td>\n",
       "      <td>67.0</td>\n",
       "      <td>2787</td>\n",
       "      <td>...</td>\n",
       "      <td>67.0</td>\n",
       "      <td>8.52</td>\n",
       "      <td>67.0</td>\n",
       "      <td>0.1</td>\n",
       "      <td>669.959000</td>\n",
       "      <td>3696958.0</td>\n",
       "      <td>17.9</td>\n",
       "      <td>18.0</td>\n",
       "      <td>0.463</td>\n",
       "      <td>9.8</td>\n",
       "    </tr>\n",
       "    <tr>\n",
       "      <th>4</th>\n",
       "      <td>Afghanistan</td>\n",
       "      <td>2011</td>\n",
       "      <td>Developing</td>\n",
       "      <td>59.2</td>\n",
       "      <td>275.0</td>\n",
       "      <td>71</td>\n",
       "      <td>0.01</td>\n",
       "      <td>7.097109</td>\n",
       "      <td>68.0</td>\n",
       "      <td>3013</td>\n",
       "      <td>...</td>\n",
       "      <td>68.0</td>\n",
       "      <td>7.87</td>\n",
       "      <td>68.0</td>\n",
       "      <td>0.1</td>\n",
       "      <td>63.537231</td>\n",
       "      <td>2978599.0</td>\n",
       "      <td>18.2</td>\n",
       "      <td>18.2</td>\n",
       "      <td>0.454</td>\n",
       "      <td>9.5</td>\n",
       "    </tr>\n",
       "  </tbody>\n",
       "</table>\n",
       "<p>5 rows × 22 columns</p>\n",
       "</div>"
      ],
      "text/plain": [
       "       Country  Year      Status  Lifeexpectancy  AdultMortality  \\\n",
       "0  Afghanistan  2015  Developing            65.0           263.0   \n",
       "1  Afghanistan  2014  Developing            59.9           271.0   \n",
       "2  Afghanistan  2013  Developing            59.9           268.0   \n",
       "3  Afghanistan  2012  Developing            59.5           272.0   \n",
       "4  Afghanistan  2011  Developing            59.2           275.0   \n",
       "\n",
       "   infantdeaths  Alcohol  percentageexpenditure  HepatitisB  Measles  ...  \\\n",
       "0            62     0.01              71.279624        65.0     1154  ...   \n",
       "1            64     0.01              73.523582        62.0      492  ...   \n",
       "2            66     0.01              73.219243        64.0      430  ...   \n",
       "3            69     0.01              78.184215        67.0     2787  ...   \n",
       "4            71     0.01               7.097109        68.0     3013  ...   \n",
       "\n",
       "   Polio  Totalexpenditure  Diphtheria  HIV/AIDS         GDP  Population  \\\n",
       "0    6.0              8.16        65.0       0.1  584.259210  33736494.0   \n",
       "1   58.0              8.18        62.0       0.1  612.696514    327582.0   \n",
       "2   62.0              8.13        64.0       0.1  631.744976  31731688.0   \n",
       "3   67.0              8.52        67.0       0.1  669.959000   3696958.0   \n",
       "4   68.0              7.87        68.0       0.1   63.537231   2978599.0   \n",
       "\n",
       "   thinness1-19years  thinness5-9years  Incomecompositionofresources  \\\n",
       "0               17.2              17.3                         0.479   \n",
       "1               17.5              17.5                         0.476   \n",
       "2               17.7              17.7                         0.470   \n",
       "3               17.9              18.0                         0.463   \n",
       "4               18.2              18.2                         0.454   \n",
       "\n",
       "   Schooling  \n",
       "0       10.1  \n",
       "1       10.0  \n",
       "2        9.9  \n",
       "3        9.8  \n",
       "4        9.5  \n",
       "\n",
       "[5 rows x 22 columns]"
      ]
     },
     "execution_count": 4,
     "metadata": {},
     "output_type": "execute_result"
    }
   ],
   "source": [
    "led.head(5)"
   ]
  },
  {
   "cell_type": "markdown",
   "metadata": {},
   "source": [
    "### Descrizione delle Feature\n",
    "- Country: Nazione\n",
    "- Year: Anno\n",
    "- Status: Stato di sviluppo della Nazione\n",
    "    - Developing: In via di sviluppo\n",
    "    - Developed: Sviluppata\n",
    "- Lifeexpectancy: Aspettativa di vita misurata\n",
    "- AdultMortality: Tasso di mortalità fra 15 e 60 anni per 1000 persone\n",
    "- infantdeaths: Morti neonatali ogni 1000 persone\n",
    "- Alcohol: Consumo di alcol (in litri) pro capite\n",
    "- percentageexpenditure: Spesa per la salute in percentuale del prodotto interno lordo (GDP) pro capite\n",
    "- Hepatitis B: Copertura immunitaria dell'epatite B tra i bambini di 1 anno, in percentuale\n",
    "- Measles: Numero di casi segnalati di morbillo su 1000 abitanti\n",
    "- BMI: Indice medio di massa corporea dell'intera popolazione\n",
    "- under-fivedeaths: Numero di morti sotto i cinque anni per 1000 abitanti\n",
    "- Polio: Copertura immunitaria dalla polio tra i bambini di 1 anno, in percentuale\n",
    "- Totalexpenditure: Spesa delle amministrazioni pubbliche per la sanità in percentuale della spesa pubblica totale\n",
    "- Diphtheria: Copertura vaccinale contro la tossicità del tetano e della pertosse (DTP3) tra i bambini di 1 anno, in percentuale\n",
    "- HIV/AIDS: Numero di decessi su 1000 nati, dovuti all' HIV/AIDS (0-4 anni)\n",
    "- GDP: Prodotto Interno Lordo (in USD)\n",
    "- Population: Popolazione della Nazione\n",
    "- thinness1-19 years: Prevalenza della magrezza tra bambini e adolescenti tra 10 e 19, in percentuale\n",
    "- thinness5-9 years: Prevalenza della magrezza tra bambini e adolescenti tra 5 e 9 anni, in percentuale\n",
    "- Incomecompositionofresources: Indice di sviluppo umano in termini di composizione del reddito delle risorse\n",
    "    - Compreso tra 0 e 1\n",
    "- Schooling: Numero medio di anni di istruzione per abitante"
   ]
  },
  {
   "cell_type": "markdown",
   "metadata": {},
   "source": [
    "## Analisi Esplorativa dei Dati"
   ]
  },
  {
   "cell_type": "code",
   "execution_count": 5,
   "metadata": {},
   "outputs": [
    {
     "name": "stdout",
     "output_type": "stream",
     "text": [
      "<class 'pandas.core.frame.DataFrame'>\n",
      "RangeIndex: 2938 entries, 0 to 2937\n",
      "Data columns (total 22 columns):\n",
      "Country                         2938 non-null object\n",
      "Year                            2938 non-null int64\n",
      "Status                          2938 non-null object\n",
      "Lifeexpectancy                  2928 non-null float64\n",
      "AdultMortality                  2928 non-null float64\n",
      "infantdeaths                    2938 non-null int64\n",
      "Alcohol                         2744 non-null float64\n",
      "percentageexpenditure           2938 non-null float64\n",
      "HepatitisB                      2385 non-null float64\n",
      "Measles                         2938 non-null int64\n",
      "BMI                             2904 non-null float64\n",
      "under-fivedeaths                2938 non-null int64\n",
      "Polio                           2919 non-null float64\n",
      "Totalexpenditure                2712 non-null float64\n",
      "Diphtheria                      2919 non-null float64\n",
      "HIV/AIDS                        2938 non-null float64\n",
      "GDP                             2490 non-null float64\n",
      "Population                      2286 non-null float64\n",
      "thinness1-19years               2904 non-null float64\n",
      "thinness5-9years                2904 non-null float64\n",
      "Incomecompositionofresources    2771 non-null float64\n",
      "Schooling                       2775 non-null float64\n",
      "dtypes: float64(16), int64(4), object(2)\n",
      "memory usage: 505.0+ KB\n"
     ]
    }
   ],
   "source": [
    "led.info()"
   ]
  },
  {
   "cell_type": "markdown",
   "metadata": {},
   "source": [
    "- Come già accennato, il numero delle istanze contenute nel dataset è 2938\n",
    "- Il numero totale delle feature è 22, compresa la variabile \"Life expectancy\" da predirre"
   ]
  },
  {
   "cell_type": "code",
   "execution_count": 6,
   "metadata": {},
   "outputs": [
    {
     "data": {
      "text/html": [
       "<div>\n",
       "<style scoped>\n",
       "    .dataframe tbody tr th:only-of-type {\n",
       "        vertical-align: middle;\n",
       "    }\n",
       "\n",
       "    .dataframe tbody tr th {\n",
       "        vertical-align: top;\n",
       "    }\n",
       "\n",
       "    .dataframe thead th {\n",
       "        text-align: right;\n",
       "    }\n",
       "</style>\n",
       "<table border=\"1\" class=\"dataframe\">\n",
       "  <thead>\n",
       "    <tr style=\"text-align: right;\">\n",
       "      <th></th>\n",
       "      <th>Year</th>\n",
       "      <th>Lifeexpectancy</th>\n",
       "      <th>AdultMortality</th>\n",
       "      <th>infantdeaths</th>\n",
       "      <th>Alcohol</th>\n",
       "      <th>percentageexpenditure</th>\n",
       "      <th>HepatitisB</th>\n",
       "      <th>Measles</th>\n",
       "      <th>BMI</th>\n",
       "      <th>under-fivedeaths</th>\n",
       "      <th>Polio</th>\n",
       "      <th>Totalexpenditure</th>\n",
       "      <th>Diphtheria</th>\n",
       "      <th>HIV/AIDS</th>\n",
       "      <th>GDP</th>\n",
       "      <th>Population</th>\n",
       "      <th>thinness1-19years</th>\n",
       "      <th>thinness5-9years</th>\n",
       "      <th>Incomecompositionofresources</th>\n",
       "      <th>Schooling</th>\n",
       "    </tr>\n",
       "  </thead>\n",
       "  <tbody>\n",
       "    <tr>\n",
       "      <th>count</th>\n",
       "      <td>2938.000000</td>\n",
       "      <td>2928.000000</td>\n",
       "      <td>2928.000000</td>\n",
       "      <td>2938.000000</td>\n",
       "      <td>2744.000000</td>\n",
       "      <td>2938.000000</td>\n",
       "      <td>2385.000000</td>\n",
       "      <td>2938.000000</td>\n",
       "      <td>2904.000000</td>\n",
       "      <td>2938.000000</td>\n",
       "      <td>2919.000000</td>\n",
       "      <td>2712.00000</td>\n",
       "      <td>2919.000000</td>\n",
       "      <td>2938.000000</td>\n",
       "      <td>2490.000000</td>\n",
       "      <td>2.286000e+03</td>\n",
       "      <td>2904.000000</td>\n",
       "      <td>2904.000000</td>\n",
       "      <td>2771.000000</td>\n",
       "      <td>2775.000000</td>\n",
       "    </tr>\n",
       "    <tr>\n",
       "      <th>mean</th>\n",
       "      <td>2007.518720</td>\n",
       "      <td>69.224932</td>\n",
       "      <td>164.796448</td>\n",
       "      <td>30.303948</td>\n",
       "      <td>4.602861</td>\n",
       "      <td>738.251295</td>\n",
       "      <td>80.940461</td>\n",
       "      <td>2419.592240</td>\n",
       "      <td>38.321247</td>\n",
       "      <td>42.035739</td>\n",
       "      <td>82.550188</td>\n",
       "      <td>5.93819</td>\n",
       "      <td>82.324084</td>\n",
       "      <td>1.742103</td>\n",
       "      <td>7483.158469</td>\n",
       "      <td>1.275338e+07</td>\n",
       "      <td>4.839704</td>\n",
       "      <td>4.870317</td>\n",
       "      <td>0.627551</td>\n",
       "      <td>11.992793</td>\n",
       "    </tr>\n",
       "    <tr>\n",
       "      <th>std</th>\n",
       "      <td>4.613841</td>\n",
       "      <td>9.523867</td>\n",
       "      <td>124.292079</td>\n",
       "      <td>117.926501</td>\n",
       "      <td>4.052413</td>\n",
       "      <td>1987.914858</td>\n",
       "      <td>25.070016</td>\n",
       "      <td>11467.272489</td>\n",
       "      <td>20.044034</td>\n",
       "      <td>160.445548</td>\n",
       "      <td>23.428046</td>\n",
       "      <td>2.49832</td>\n",
       "      <td>23.716912</td>\n",
       "      <td>5.077785</td>\n",
       "      <td>14270.169342</td>\n",
       "      <td>6.101210e+07</td>\n",
       "      <td>4.420195</td>\n",
       "      <td>4.508882</td>\n",
       "      <td>0.210904</td>\n",
       "      <td>3.358920</td>\n",
       "    </tr>\n",
       "    <tr>\n",
       "      <th>min</th>\n",
       "      <td>2000.000000</td>\n",
       "      <td>36.300000</td>\n",
       "      <td>1.000000</td>\n",
       "      <td>0.000000</td>\n",
       "      <td>0.010000</td>\n",
       "      <td>0.000000</td>\n",
       "      <td>1.000000</td>\n",
       "      <td>0.000000</td>\n",
       "      <td>1.000000</td>\n",
       "      <td>0.000000</td>\n",
       "      <td>3.000000</td>\n",
       "      <td>0.37000</td>\n",
       "      <td>2.000000</td>\n",
       "      <td>0.100000</td>\n",
       "      <td>1.681350</td>\n",
       "      <td>3.400000e+01</td>\n",
       "      <td>0.100000</td>\n",
       "      <td>0.100000</td>\n",
       "      <td>0.000000</td>\n",
       "      <td>0.000000</td>\n",
       "    </tr>\n",
       "    <tr>\n",
       "      <th>25%</th>\n",
       "      <td>2004.000000</td>\n",
       "      <td>63.100000</td>\n",
       "      <td>74.000000</td>\n",
       "      <td>0.000000</td>\n",
       "      <td>0.877500</td>\n",
       "      <td>4.685343</td>\n",
       "      <td>77.000000</td>\n",
       "      <td>0.000000</td>\n",
       "      <td>19.300000</td>\n",
       "      <td>0.000000</td>\n",
       "      <td>78.000000</td>\n",
       "      <td>4.26000</td>\n",
       "      <td>78.000000</td>\n",
       "      <td>0.100000</td>\n",
       "      <td>463.935626</td>\n",
       "      <td>1.957932e+05</td>\n",
       "      <td>1.600000</td>\n",
       "      <td>1.500000</td>\n",
       "      <td>0.493000</td>\n",
       "      <td>10.100000</td>\n",
       "    </tr>\n",
       "    <tr>\n",
       "      <th>50%</th>\n",
       "      <td>2008.000000</td>\n",
       "      <td>72.100000</td>\n",
       "      <td>144.000000</td>\n",
       "      <td>3.000000</td>\n",
       "      <td>3.755000</td>\n",
       "      <td>64.912906</td>\n",
       "      <td>92.000000</td>\n",
       "      <td>17.000000</td>\n",
       "      <td>43.500000</td>\n",
       "      <td>4.000000</td>\n",
       "      <td>93.000000</td>\n",
       "      <td>5.75500</td>\n",
       "      <td>93.000000</td>\n",
       "      <td>0.100000</td>\n",
       "      <td>1766.947595</td>\n",
       "      <td>1.386542e+06</td>\n",
       "      <td>3.300000</td>\n",
       "      <td>3.300000</td>\n",
       "      <td>0.677000</td>\n",
       "      <td>12.300000</td>\n",
       "    </tr>\n",
       "    <tr>\n",
       "      <th>75%</th>\n",
       "      <td>2012.000000</td>\n",
       "      <td>75.700000</td>\n",
       "      <td>228.000000</td>\n",
       "      <td>22.000000</td>\n",
       "      <td>7.702500</td>\n",
       "      <td>441.534144</td>\n",
       "      <td>97.000000</td>\n",
       "      <td>360.250000</td>\n",
       "      <td>56.200000</td>\n",
       "      <td>28.000000</td>\n",
       "      <td>97.000000</td>\n",
       "      <td>7.49250</td>\n",
       "      <td>97.000000</td>\n",
       "      <td>0.800000</td>\n",
       "      <td>5910.806335</td>\n",
       "      <td>7.420359e+06</td>\n",
       "      <td>7.200000</td>\n",
       "      <td>7.200000</td>\n",
       "      <td>0.779000</td>\n",
       "      <td>14.300000</td>\n",
       "    </tr>\n",
       "    <tr>\n",
       "      <th>max</th>\n",
       "      <td>2015.000000</td>\n",
       "      <td>89.000000</td>\n",
       "      <td>723.000000</td>\n",
       "      <td>1800.000000</td>\n",
       "      <td>17.870000</td>\n",
       "      <td>19479.911610</td>\n",
       "      <td>99.000000</td>\n",
       "      <td>212183.000000</td>\n",
       "      <td>87.300000</td>\n",
       "      <td>2500.000000</td>\n",
       "      <td>99.000000</td>\n",
       "      <td>17.60000</td>\n",
       "      <td>99.000000</td>\n",
       "      <td>50.600000</td>\n",
       "      <td>119172.741800</td>\n",
       "      <td>1.293859e+09</td>\n",
       "      <td>27.700000</td>\n",
       "      <td>28.600000</td>\n",
       "      <td>0.948000</td>\n",
       "      <td>20.700000</td>\n",
       "    </tr>\n",
       "  </tbody>\n",
       "</table>\n",
       "</div>"
      ],
      "text/plain": [
       "              Year  Lifeexpectancy  AdultMortality  infantdeaths      Alcohol  \\\n",
       "count  2938.000000     2928.000000     2928.000000   2938.000000  2744.000000   \n",
       "mean   2007.518720       69.224932      164.796448     30.303948     4.602861   \n",
       "std       4.613841        9.523867      124.292079    117.926501     4.052413   \n",
       "min    2000.000000       36.300000        1.000000      0.000000     0.010000   \n",
       "25%    2004.000000       63.100000       74.000000      0.000000     0.877500   \n",
       "50%    2008.000000       72.100000      144.000000      3.000000     3.755000   \n",
       "75%    2012.000000       75.700000      228.000000     22.000000     7.702500   \n",
       "max    2015.000000       89.000000      723.000000   1800.000000    17.870000   \n",
       "\n",
       "       percentageexpenditure   HepatitisB        Measles          BMI  \\\n",
       "count            2938.000000  2385.000000    2938.000000  2904.000000   \n",
       "mean              738.251295    80.940461    2419.592240    38.321247   \n",
       "std              1987.914858    25.070016   11467.272489    20.044034   \n",
       "min                 0.000000     1.000000       0.000000     1.000000   \n",
       "25%                 4.685343    77.000000       0.000000    19.300000   \n",
       "50%                64.912906    92.000000      17.000000    43.500000   \n",
       "75%               441.534144    97.000000     360.250000    56.200000   \n",
       "max             19479.911610    99.000000  212183.000000    87.300000   \n",
       "\n",
       "       under-fivedeaths        Polio  Totalexpenditure   Diphtheria  \\\n",
       "count       2938.000000  2919.000000        2712.00000  2919.000000   \n",
       "mean          42.035739    82.550188           5.93819    82.324084   \n",
       "std          160.445548    23.428046           2.49832    23.716912   \n",
       "min            0.000000     3.000000           0.37000     2.000000   \n",
       "25%            0.000000    78.000000           4.26000    78.000000   \n",
       "50%            4.000000    93.000000           5.75500    93.000000   \n",
       "75%           28.000000    97.000000           7.49250    97.000000   \n",
       "max         2500.000000    99.000000          17.60000    99.000000   \n",
       "\n",
       "          HIV/AIDS            GDP    Population  thinness1-19years  \\\n",
       "count  2938.000000    2490.000000  2.286000e+03        2904.000000   \n",
       "mean      1.742103    7483.158469  1.275338e+07           4.839704   \n",
       "std       5.077785   14270.169342  6.101210e+07           4.420195   \n",
       "min       0.100000       1.681350  3.400000e+01           0.100000   \n",
       "25%       0.100000     463.935626  1.957932e+05           1.600000   \n",
       "50%       0.100000    1766.947595  1.386542e+06           3.300000   \n",
       "75%       0.800000    5910.806335  7.420359e+06           7.200000   \n",
       "max      50.600000  119172.741800  1.293859e+09          27.700000   \n",
       "\n",
       "       thinness5-9years  Incomecompositionofresources    Schooling  \n",
       "count       2904.000000                   2771.000000  2775.000000  \n",
       "mean           4.870317                      0.627551    11.992793  \n",
       "std            4.508882                      0.210904     3.358920  \n",
       "min            0.100000                      0.000000     0.000000  \n",
       "25%            1.500000                      0.493000    10.100000  \n",
       "50%            3.300000                      0.677000    12.300000  \n",
       "75%            7.200000                      0.779000    14.300000  \n",
       "max           28.600000                      0.948000    20.700000  "
      ]
     },
     "execution_count": 6,
     "metadata": {},
     "output_type": "execute_result"
    }
   ],
   "source": [
    "led.describe()"
   ]
  },
  {
   "cell_type": "markdown",
   "metadata": {},
   "source": [
    "- Si sono riportate media, deviazione standard e percentili per tutte le feature considerate\n",
    "- Si riportano di seguito le istanze mancanti e le relative percentuali per categoria sul totale"
   ]
  },
  {
   "cell_type": "code",
   "execution_count": 7,
   "metadata": {},
   "outputs": [
    {
     "data": {
      "text/html": [
       "<div>\n",
       "<style scoped>\n",
       "    .dataframe tbody tr th:only-of-type {\n",
       "        vertical-align: middle;\n",
       "    }\n",
       "\n",
       "    .dataframe tbody tr th {\n",
       "        vertical-align: top;\n",
       "    }\n",
       "\n",
       "    .dataframe thead th {\n",
       "        text-align: right;\n",
       "    }\n",
       "</style>\n",
       "<table border=\"1\" class=\"dataframe\">\n",
       "  <thead>\n",
       "    <tr style=\"text-align: right;\">\n",
       "      <th></th>\n",
       "      <th>Total</th>\n",
       "      <th>%</th>\n",
       "    </tr>\n",
       "  </thead>\n",
       "  <tbody>\n",
       "    <tr>\n",
       "      <th>Population</th>\n",
       "      <td>652</td>\n",
       "      <td>22.2</td>\n",
       "    </tr>\n",
       "    <tr>\n",
       "      <th>HepatitisB</th>\n",
       "      <td>553</td>\n",
       "      <td>18.8</td>\n",
       "    </tr>\n",
       "    <tr>\n",
       "      <th>GDP</th>\n",
       "      <td>448</td>\n",
       "      <td>15.2</td>\n",
       "    </tr>\n",
       "    <tr>\n",
       "      <th>Totalexpenditure</th>\n",
       "      <td>226</td>\n",
       "      <td>7.7</td>\n",
       "    </tr>\n",
       "    <tr>\n",
       "      <th>Alcohol</th>\n",
       "      <td>194</td>\n",
       "      <td>6.6</td>\n",
       "    </tr>\n",
       "    <tr>\n",
       "      <th>Incomecompositionofresources</th>\n",
       "      <td>167</td>\n",
       "      <td>5.7</td>\n",
       "    </tr>\n",
       "    <tr>\n",
       "      <th>Schooling</th>\n",
       "      <td>163</td>\n",
       "      <td>5.5</td>\n",
       "    </tr>\n",
       "    <tr>\n",
       "      <th>BMI</th>\n",
       "      <td>34</td>\n",
       "      <td>1.2</td>\n",
       "    </tr>\n",
       "    <tr>\n",
       "      <th>thinness1-19years</th>\n",
       "      <td>34</td>\n",
       "      <td>1.2</td>\n",
       "    </tr>\n",
       "    <tr>\n",
       "      <th>thinness5-9years</th>\n",
       "      <td>34</td>\n",
       "      <td>1.2</td>\n",
       "    </tr>\n",
       "    <tr>\n",
       "      <th>Diphtheria</th>\n",
       "      <td>19</td>\n",
       "      <td>0.6</td>\n",
       "    </tr>\n",
       "    <tr>\n",
       "      <th>Polio</th>\n",
       "      <td>19</td>\n",
       "      <td>0.6</td>\n",
       "    </tr>\n",
       "    <tr>\n",
       "      <th>AdultMortality</th>\n",
       "      <td>10</td>\n",
       "      <td>0.3</td>\n",
       "    </tr>\n",
       "    <tr>\n",
       "      <th>Lifeexpectancy</th>\n",
       "      <td>10</td>\n",
       "      <td>0.3</td>\n",
       "    </tr>\n",
       "  </tbody>\n",
       "</table>\n",
       "</div>"
      ],
      "text/plain": [
       "                              Total     %\n",
       "Population                      652  22.2\n",
       "HepatitisB                      553  18.8\n",
       "GDP                             448  15.2\n",
       "Totalexpenditure                226   7.7\n",
       "Alcohol                         194   6.6\n",
       "Incomecompositionofresources    167   5.7\n",
       "Schooling                       163   5.5\n",
       "BMI                              34   1.2\n",
       "thinness1-19years                34   1.2\n",
       "thinness5-9years                 34   1.2\n",
       "Diphtheria                       19   0.6\n",
       "Polio                            19   0.6\n",
       "AdultMortality                   10   0.3\n",
       "Lifeexpectancy                   10   0.3"
      ]
     },
     "execution_count": 7,
     "metadata": {},
     "output_type": "execute_result"
    }
   ],
   "source": [
    "total = led.isnull().sum().sort_values(ascending=False)\n",
    "percent_1 = led.isnull().sum()/led.isnull().count()*100\n",
    "percent_2 = (round(percent_1, 1)).sort_values(ascending=False)\n",
    "missing_data = pd.concat([total, percent_2], axis=1, keys=['Total', '%'])\n",
    "missing_data.head(14)"
   ]
  },
  {
   "cell_type": "markdown",
   "metadata": {},
   "source": [
    "- Come premesso nell'introduzione, poiché i set di dati erano dell'OMS non sono stati riscontrati errori evidenti. La maggior parte dei dati mancanti riguardava la popolazione, l'epatite B e il PIL. Questi provengono tutti da paesi meno conosciuti come Vanuatu, Tonga, Togo, Capo Verde ecc.. che si è deciso dunque di escludere dal set di dati del modello finale. "
   ]
  },
  {
   "cell_type": "code",
   "execution_count": 8,
   "metadata": {},
   "outputs": [],
   "source": [
    "led.dropna(inplace=True) "
   ]
  },
  {
   "cell_type": "markdown",
   "metadata": {},
   "source": [
    "- Ci liberiamo delle righe con dati mancanti\n",
    "- Sono riportati di seguito i dati relativi all'Italia, nel periodo considerato tra il 2000 e il 2014. Si nota come:\n",
    "    - L'aspettativa di vita sia aumentata nel corso degli anni\n",
    "    - La mortalità in età adulta sia calata del 20%\n",
    "    - Le coperture vaccinali siano cambiate di pochi punti percentuali\n",
    "    - La spesa per la sanità sia aumentata\n",
    "    - Il numero medio di anni di istruzione per abitante sia cresciuto"
   ]
  },
  {
   "cell_type": "code",
   "execution_count": 9,
   "metadata": {},
   "outputs": [
    {
     "data": {
      "text/html": [
       "<div>\n",
       "<style scoped>\n",
       "    .dataframe tbody tr th:only-of-type {\n",
       "        vertical-align: middle;\n",
       "    }\n",
       "\n",
       "    .dataframe tbody tr th {\n",
       "        vertical-align: top;\n",
       "    }\n",
       "\n",
       "    .dataframe thead th {\n",
       "        text-align: right;\n",
       "    }\n",
       "</style>\n",
       "<table border=\"1\" class=\"dataframe\">\n",
       "  <thead>\n",
       "    <tr style=\"text-align: right;\">\n",
       "      <th></th>\n",
       "      <th>Country</th>\n",
       "      <th>Year</th>\n",
       "      <th>Status</th>\n",
       "      <th>Lifeexpectancy</th>\n",
       "      <th>AdultMortality</th>\n",
       "      <th>infantdeaths</th>\n",
       "      <th>Alcohol</th>\n",
       "      <th>percentageexpenditure</th>\n",
       "      <th>HepatitisB</th>\n",
       "      <th>Measles</th>\n",
       "      <th>...</th>\n",
       "      <th>Polio</th>\n",
       "      <th>Totalexpenditure</th>\n",
       "      <th>Diphtheria</th>\n",
       "      <th>HIV/AIDS</th>\n",
       "      <th>GDP</th>\n",
       "      <th>Population</th>\n",
       "      <th>thinness1-19years</th>\n",
       "      <th>thinness5-9years</th>\n",
       "      <th>Incomecompositionofresources</th>\n",
       "      <th>Schooling</th>\n",
       "    </tr>\n",
       "  </thead>\n",
       "  <tbody>\n",
       "    <tr>\n",
       "      <th>1297</th>\n",
       "      <td>Italy</td>\n",
       "      <td>2000</td>\n",
       "      <td>Developed</td>\n",
       "      <td>79.4</td>\n",
       "      <td>77.0</td>\n",
       "      <td>3</td>\n",
       "      <td>9.78</td>\n",
       "      <td>31.505822</td>\n",
       "      <td>94.0</td>\n",
       "      <td>1457</td>\n",
       "      <td>...</td>\n",
       "      <td>97.0</td>\n",
       "      <td>7.91</td>\n",
       "      <td>87.0</td>\n",
       "      <td>0.1</td>\n",
       "      <td>251.24260</td>\n",
       "      <td>5694218.0</td>\n",
       "      <td>0.5</td>\n",
       "      <td>0.5</td>\n",
       "      <td>0.823</td>\n",
       "      <td>14.8</td>\n",
       "    </tr>\n",
       "    <tr>\n",
       "      <th>1296</th>\n",
       "      <td>Italy</td>\n",
       "      <td>2001</td>\n",
       "      <td>Developed</td>\n",
       "      <td>79.8</td>\n",
       "      <td>75.0</td>\n",
       "      <td>2</td>\n",
       "      <td>9.69</td>\n",
       "      <td>3.122230</td>\n",
       "      <td>95.0</td>\n",
       "      <td>0</td>\n",
       "      <td>...</td>\n",
       "      <td>96.0</td>\n",
       "      <td>8.11</td>\n",
       "      <td>93.0</td>\n",
       "      <td>0.1</td>\n",
       "      <td>24.81900</td>\n",
       "      <td>569741.0</td>\n",
       "      <td>0.5</td>\n",
       "      <td>0.5</td>\n",
       "      <td>0.828</td>\n",
       "      <td>14.9</td>\n",
       "    </tr>\n",
       "    <tr>\n",
       "      <th>1295</th>\n",
       "      <td>Italy</td>\n",
       "      <td>2002</td>\n",
       "      <td>Developed</td>\n",
       "      <td>80.0</td>\n",
       "      <td>72.0</td>\n",
       "      <td>2</td>\n",
       "      <td>9.25</td>\n",
       "      <td>2883.334911</td>\n",
       "      <td>95.0</td>\n",
       "      <td>9385</td>\n",
       "      <td>...</td>\n",
       "      <td>96.0</td>\n",
       "      <td>8.23</td>\n",
       "      <td>93.0</td>\n",
       "      <td>0.1</td>\n",
       "      <td>22196.57360</td>\n",
       "      <td>57597.0</td>\n",
       "      <td>0.5</td>\n",
       "      <td>0.5</td>\n",
       "      <td>0.836</td>\n",
       "      <td>15.2</td>\n",
       "    </tr>\n",
       "    <tr>\n",
       "      <th>1294</th>\n",
       "      <td>Italy</td>\n",
       "      <td>2003</td>\n",
       "      <td>Developed</td>\n",
       "      <td>79.9</td>\n",
       "      <td>72.0</td>\n",
       "      <td>2</td>\n",
       "      <td>9.30</td>\n",
       "      <td>3519.258515</td>\n",
       "      <td>95.0</td>\n",
       "      <td>10982</td>\n",
       "      <td>...</td>\n",
       "      <td>97.0</td>\n",
       "      <td>8.17</td>\n",
       "      <td>96.0</td>\n",
       "      <td>0.1</td>\n",
       "      <td>27387.22580</td>\n",
       "      <td>5731323.0</td>\n",
       "      <td>0.5</td>\n",
       "      <td>0.5</td>\n",
       "      <td>0.841</td>\n",
       "      <td>15.4</td>\n",
       "    </tr>\n",
       "    <tr>\n",
       "      <th>1293</th>\n",
       "      <td>Italy</td>\n",
       "      <td>2004</td>\n",
       "      <td>Developed</td>\n",
       "      <td>89.0</td>\n",
       "      <td>66.0</td>\n",
       "      <td>2</td>\n",
       "      <td>8.98</td>\n",
       "      <td>4270.914882</td>\n",
       "      <td>96.0</td>\n",
       "      <td>599</td>\n",
       "      <td>...</td>\n",
       "      <td>97.0</td>\n",
       "      <td>8.49</td>\n",
       "      <td>94.0</td>\n",
       "      <td>0.1</td>\n",
       "      <td>31174.56118</td>\n",
       "      <td>57685327.0</td>\n",
       "      <td>0.5</td>\n",
       "      <td>0.5</td>\n",
       "      <td>0.846</td>\n",
       "      <td>15.6</td>\n",
       "    </tr>\n",
       "    <tr>\n",
       "      <th>1292</th>\n",
       "      <td>Italy</td>\n",
       "      <td>2005</td>\n",
       "      <td>Developed</td>\n",
       "      <td>88.0</td>\n",
       "      <td>66.0</td>\n",
       "      <td>2</td>\n",
       "      <td>8.65</td>\n",
       "      <td>4506.255963</td>\n",
       "      <td>96.0</td>\n",
       "      <td>135</td>\n",
       "      <td>...</td>\n",
       "      <td>97.0</td>\n",
       "      <td>8.71</td>\n",
       "      <td>95.0</td>\n",
       "      <td>0.1</td>\n",
       "      <td>31959.26215</td>\n",
       "      <td>57969484.0</td>\n",
       "      <td>0.5</td>\n",
       "      <td>0.5</td>\n",
       "      <td>0.851</td>\n",
       "      <td>15.8</td>\n",
       "    </tr>\n",
       "    <tr>\n",
       "      <th>1291</th>\n",
       "      <td>Italy</td>\n",
       "      <td>2006</td>\n",
       "      <td>Developed</td>\n",
       "      <td>81.2</td>\n",
       "      <td>65.0</td>\n",
       "      <td>2</td>\n",
       "      <td>8.44</td>\n",
       "      <td>473.191545</td>\n",
       "      <td>96.0</td>\n",
       "      <td>439</td>\n",
       "      <td>...</td>\n",
       "      <td>97.0</td>\n",
       "      <td>8.82</td>\n",
       "      <td>96.0</td>\n",
       "      <td>0.1</td>\n",
       "      <td>3341.74820</td>\n",
       "      <td>58143979.0</td>\n",
       "      <td>0.5</td>\n",
       "      <td>0.5</td>\n",
       "      <td>0.856</td>\n",
       "      <td>16.0</td>\n",
       "    </tr>\n",
       "    <tr>\n",
       "      <th>1290</th>\n",
       "      <td>Italy</td>\n",
       "      <td>2007</td>\n",
       "      <td>Developed</td>\n",
       "      <td>81.3</td>\n",
       "      <td>63.0</td>\n",
       "      <td>2</td>\n",
       "      <td>8.37</td>\n",
       "      <td>5228.821581</td>\n",
       "      <td>97.0</td>\n",
       "      <td>321</td>\n",
       "      <td>...</td>\n",
       "      <td>97.0</td>\n",
       "      <td>8.48</td>\n",
       "      <td>97.0</td>\n",
       "      <td>0.1</td>\n",
       "      <td>37698.78573</td>\n",
       "      <td>5843831.0</td>\n",
       "      <td>0.5</td>\n",
       "      <td>0.5</td>\n",
       "      <td>0.862</td>\n",
       "      <td>16.1</td>\n",
       "    </tr>\n",
       "    <tr>\n",
       "      <th>1289</th>\n",
       "      <td>Italy</td>\n",
       "      <td>2008</td>\n",
       "      <td>Developed</td>\n",
       "      <td>81.5</td>\n",
       "      <td>61.0</td>\n",
       "      <td>2</td>\n",
       "      <td>7.96</td>\n",
       "      <td>66.378405</td>\n",
       "      <td>96.0</td>\n",
       "      <td>1617</td>\n",
       "      <td>...</td>\n",
       "      <td>96.0</td>\n",
       "      <td>8.89</td>\n",
       "      <td>96.0</td>\n",
       "      <td>0.1</td>\n",
       "      <td>464.18465</td>\n",
       "      <td>58826731.0</td>\n",
       "      <td>0.5</td>\n",
       "      <td>0.5</td>\n",
       "      <td>0.866</td>\n",
       "      <td>16.3</td>\n",
       "    </tr>\n",
       "    <tr>\n",
       "      <th>1288</th>\n",
       "      <td>Italy</td>\n",
       "      <td>2009</td>\n",
       "      <td>Developed</td>\n",
       "      <td>81.6</td>\n",
       "      <td>61.0</td>\n",
       "      <td>2</td>\n",
       "      <td>7.25</td>\n",
       "      <td>5243.316638</td>\n",
       "      <td>96.0</td>\n",
       "      <td>351</td>\n",
       "      <td>...</td>\n",
       "      <td>96.0</td>\n",
       "      <td>9.41</td>\n",
       "      <td>96.0</td>\n",
       "      <td>0.1</td>\n",
       "      <td>36976.84512</td>\n",
       "      <td>5995365.0</td>\n",
       "      <td>0.5</td>\n",
       "      <td>0.5</td>\n",
       "      <td>0.868</td>\n",
       "      <td>16.3</td>\n",
       "    </tr>\n",
       "    <tr>\n",
       "      <th>1287</th>\n",
       "      <td>Italy</td>\n",
       "      <td>2010</td>\n",
       "      <td>Developed</td>\n",
       "      <td>81.8</td>\n",
       "      <td>6.0</td>\n",
       "      <td>2</td>\n",
       "      <td>6.95</td>\n",
       "      <td>5219.668802</td>\n",
       "      <td>96.0</td>\n",
       "      <td>372</td>\n",
       "      <td>...</td>\n",
       "      <td>96.0</td>\n",
       "      <td>9.42</td>\n",
       "      <td>96.0</td>\n",
       "      <td>0.1</td>\n",
       "      <td>35849.37364</td>\n",
       "      <td>59277417.0</td>\n",
       "      <td>0.5</td>\n",
       "      <td>0.5</td>\n",
       "      <td>0.869</td>\n",
       "      <td>16.4</td>\n",
       "    </tr>\n",
       "    <tr>\n",
       "      <th>1286</th>\n",
       "      <td>Italy</td>\n",
       "      <td>2011</td>\n",
       "      <td>Developed</td>\n",
       "      <td>82.0</td>\n",
       "      <td>6.0</td>\n",
       "      <td>2</td>\n",
       "      <td>6.98</td>\n",
       "      <td>5439.691769</td>\n",
       "      <td>96.0</td>\n",
       "      <td>5189</td>\n",
       "      <td>...</td>\n",
       "      <td>96.0</td>\n",
       "      <td>9.27</td>\n",
       "      <td>96.0</td>\n",
       "      <td>0.1</td>\n",
       "      <td>38334.68477</td>\n",
       "      <td>59379449.0</td>\n",
       "      <td>0.5</td>\n",
       "      <td>0.5</td>\n",
       "      <td>0.872</td>\n",
       "      <td>16.4</td>\n",
       "    </tr>\n",
       "    <tr>\n",
       "      <th>1285</th>\n",
       "      <td>Italy</td>\n",
       "      <td>2012</td>\n",
       "      <td>Developed</td>\n",
       "      <td>82.0</td>\n",
       "      <td>6.0</td>\n",
       "      <td>2</td>\n",
       "      <td>7.49</td>\n",
       "      <td>4793.904924</td>\n",
       "      <td>96.0</td>\n",
       "      <td>376</td>\n",
       "      <td>...</td>\n",
       "      <td>96.0</td>\n",
       "      <td>9.28</td>\n",
       "      <td>97.0</td>\n",
       "      <td>0.1</td>\n",
       "      <td>34814.12436</td>\n",
       "      <td>59539717.0</td>\n",
       "      <td>0.5</td>\n",
       "      <td>0.6</td>\n",
       "      <td>0.877</td>\n",
       "      <td>16.6</td>\n",
       "    </tr>\n",
       "    <tr>\n",
       "      <th>1284</th>\n",
       "      <td>Italy</td>\n",
       "      <td>2013</td>\n",
       "      <td>Developed</td>\n",
       "      <td>82.3</td>\n",
       "      <td>58.0</td>\n",
       "      <td>2</td>\n",
       "      <td>7.35</td>\n",
       "      <td>483.191684</td>\n",
       "      <td>96.0</td>\n",
       "      <td>0</td>\n",
       "      <td>...</td>\n",
       "      <td>96.0</td>\n",
       "      <td>9.22</td>\n",
       "      <td>96.0</td>\n",
       "      <td>0.1</td>\n",
       "      <td>3537.27441</td>\n",
       "      <td>6233948.0</td>\n",
       "      <td>0.5</td>\n",
       "      <td>0.6</td>\n",
       "      <td>0.876</td>\n",
       "      <td>16.5</td>\n",
       "    </tr>\n",
       "    <tr>\n",
       "      <th>1283</th>\n",
       "      <td>Italy</td>\n",
       "      <td>2014</td>\n",
       "      <td>Developed</td>\n",
       "      <td>82.5</td>\n",
       "      <td>57.0</td>\n",
       "      <td>2</td>\n",
       "      <td>7.56</td>\n",
       "      <td>4831.644796</td>\n",
       "      <td>95.0</td>\n",
       "      <td>0</td>\n",
       "      <td>...</td>\n",
       "      <td>95.0</td>\n",
       "      <td>9.25</td>\n",
       "      <td>95.0</td>\n",
       "      <td>0.1</td>\n",
       "      <td>35396.66517</td>\n",
       "      <td>678914.0</td>\n",
       "      <td>0.6</td>\n",
       "      <td>0.6</td>\n",
       "      <td>0.877</td>\n",
       "      <td>16.3</td>\n",
       "    </tr>\n",
       "  </tbody>\n",
       "</table>\n",
       "<p>15 rows × 22 columns</p>\n",
       "</div>"
      ],
      "text/plain": [
       "     Country  Year     Status  Lifeexpectancy  AdultMortality  infantdeaths  \\\n",
       "1297   Italy  2000  Developed            79.4            77.0             3   \n",
       "1296   Italy  2001  Developed            79.8            75.0             2   \n",
       "1295   Italy  2002  Developed            80.0            72.0             2   \n",
       "1294   Italy  2003  Developed            79.9            72.0             2   \n",
       "1293   Italy  2004  Developed            89.0            66.0             2   \n",
       "1292   Italy  2005  Developed            88.0            66.0             2   \n",
       "1291   Italy  2006  Developed            81.2            65.0             2   \n",
       "1290   Italy  2007  Developed            81.3            63.0             2   \n",
       "1289   Italy  2008  Developed            81.5            61.0             2   \n",
       "1288   Italy  2009  Developed            81.6            61.0             2   \n",
       "1287   Italy  2010  Developed            81.8             6.0             2   \n",
       "1286   Italy  2011  Developed            82.0             6.0             2   \n",
       "1285   Italy  2012  Developed            82.0             6.0             2   \n",
       "1284   Italy  2013  Developed            82.3            58.0             2   \n",
       "1283   Italy  2014  Developed            82.5            57.0             2   \n",
       "\n",
       "      Alcohol  percentageexpenditure  HepatitisB  Measles  ...  Polio  \\\n",
       "1297     9.78              31.505822        94.0     1457  ...   97.0   \n",
       "1296     9.69               3.122230        95.0        0  ...   96.0   \n",
       "1295     9.25            2883.334911        95.0     9385  ...   96.0   \n",
       "1294     9.30            3519.258515        95.0    10982  ...   97.0   \n",
       "1293     8.98            4270.914882        96.0      599  ...   97.0   \n",
       "1292     8.65            4506.255963        96.0      135  ...   97.0   \n",
       "1291     8.44             473.191545        96.0      439  ...   97.0   \n",
       "1290     8.37            5228.821581        97.0      321  ...   97.0   \n",
       "1289     7.96              66.378405        96.0     1617  ...   96.0   \n",
       "1288     7.25            5243.316638        96.0      351  ...   96.0   \n",
       "1287     6.95            5219.668802        96.0      372  ...   96.0   \n",
       "1286     6.98            5439.691769        96.0     5189  ...   96.0   \n",
       "1285     7.49            4793.904924        96.0      376  ...   96.0   \n",
       "1284     7.35             483.191684        96.0        0  ...   96.0   \n",
       "1283     7.56            4831.644796        95.0        0  ...   95.0   \n",
       "\n",
       "      Totalexpenditure  Diphtheria  HIV/AIDS          GDP  Population  \\\n",
       "1297              7.91        87.0       0.1    251.24260   5694218.0   \n",
       "1296              8.11        93.0       0.1     24.81900    569741.0   \n",
       "1295              8.23        93.0       0.1  22196.57360     57597.0   \n",
       "1294              8.17        96.0       0.1  27387.22580   5731323.0   \n",
       "1293              8.49        94.0       0.1  31174.56118  57685327.0   \n",
       "1292              8.71        95.0       0.1  31959.26215  57969484.0   \n",
       "1291              8.82        96.0       0.1   3341.74820  58143979.0   \n",
       "1290              8.48        97.0       0.1  37698.78573   5843831.0   \n",
       "1289              8.89        96.0       0.1    464.18465  58826731.0   \n",
       "1288              9.41        96.0       0.1  36976.84512   5995365.0   \n",
       "1287              9.42        96.0       0.1  35849.37364  59277417.0   \n",
       "1286              9.27        96.0       0.1  38334.68477  59379449.0   \n",
       "1285              9.28        97.0       0.1  34814.12436  59539717.0   \n",
       "1284              9.22        96.0       0.1   3537.27441   6233948.0   \n",
       "1283              9.25        95.0       0.1  35396.66517    678914.0   \n",
       "\n",
       "      thinness1-19years  thinness5-9years  Incomecompositionofresources  \\\n",
       "1297                0.5               0.5                         0.823   \n",
       "1296                0.5               0.5                         0.828   \n",
       "1295                0.5               0.5                         0.836   \n",
       "1294                0.5               0.5                         0.841   \n",
       "1293                0.5               0.5                         0.846   \n",
       "1292                0.5               0.5                         0.851   \n",
       "1291                0.5               0.5                         0.856   \n",
       "1290                0.5               0.5                         0.862   \n",
       "1289                0.5               0.5                         0.866   \n",
       "1288                0.5               0.5                         0.868   \n",
       "1287                0.5               0.5                         0.869   \n",
       "1286                0.5               0.5                         0.872   \n",
       "1285                0.5               0.6                         0.877   \n",
       "1284                0.5               0.6                         0.876   \n",
       "1283                0.6               0.6                         0.877   \n",
       "\n",
       "      Schooling  \n",
       "1297       14.8  \n",
       "1296       14.9  \n",
       "1295       15.2  \n",
       "1294       15.4  \n",
       "1293       15.6  \n",
       "1292       15.8  \n",
       "1291       16.0  \n",
       "1290       16.1  \n",
       "1289       16.3  \n",
       "1288       16.3  \n",
       "1287       16.4  \n",
       "1286       16.4  \n",
       "1285       16.6  \n",
       "1284       16.5  \n",
       "1283       16.3  \n",
       "\n",
       "[15 rows x 22 columns]"
      ]
     },
     "execution_count": 9,
     "metadata": {},
     "output_type": "execute_result"
    }
   ],
   "source": [
    "led_by_country = led.groupby(\"Country\")\n",
    "led_by_country.get_group(\"Italy\").sort_values(\"Year\", ascending=True)"
   ]
  },
  {
   "cell_type": "code",
   "execution_count": 10,
   "metadata": {},
   "outputs": [
    {
     "data": {
      "text/plain": [
       "<matplotlib.axes._subplots.AxesSubplot at 0x21eb1ba16d8>"
      ]
     },
     "execution_count": 10,
     "metadata": {},
     "output_type": "execute_result"
    },
    {
     "data": {
      "image/png": "[encoded data removed]",
      "text/plain": [
       "<Figure size 432x288 with 1 Axes>"
      ]
     },
     "metadata": {},
     "output_type": "display_data"
    }
   ],
   "source": [
    "led_country = led[[\"Country\",\"Lifeexpectancy\"]]\n",
    "led_Italy = led_country.loc[led_country[\"Country\"]==\"Italy\"]\n",
    "pd.cut(led_Italy[\"Lifeexpectancy\"], 8).value_counts().plot.pie()"
   ]
  },
  {
   "cell_type": "markdown",
   "metadata": {},
   "source": [
    "- Dal grafico a torta si nota come, in Italia, l'aspettativa di vita sia sempre stata circa intorno agli 81 anni\n",
    "    - Eccezion fatta per il 2004 e il 2005, anni particolarmente longevi"
   ]
  },
  {
   "cell_type": "markdown",
   "metadata": {},
   "source": [
    "- Si stampano a schermo ora le distribuzioni di tutte le variabili"
   ]
  },
  {
   "cell_type": "code",
   "execution_count": 11,
   "metadata": {},
   "outputs": [
    {
     "data": {
      "image/png": "[encoded data removed]",
      "text/plain": [
       "<Figure size 1152x1440 with 20 Axes>"
      ]
     },
     "metadata": {
      "needs_background": "light"
     },
     "output_type": "display_data"
    }
   ],
   "source": [
    "led.hist(figsize=(16, 20), bins=50, xlabelsize=8, ylabelsize=8); # Ora li stampiamo tutti"
   ]
  },
  {
   "cell_type": "code",
   "execution_count": 12,
   "metadata": {},
   "outputs": [
    {
     "data": {
      "image/png": "[encoded data removed]",
      "text/plain": [
       "<Figure size 648x576 with 1 Axes>"
      ]
     },
     "metadata": {
      "needs_background": "light"
     },
     "output_type": "display_data"
    }
   ],
   "source": [
    "plt.figure(figsize=(9, 8))\n",
    "sns.distplot(led['Lifeexpectancy'], color='b', bins=100, hist_kws={'alpha': 0.4});"
   ]
  },
  {
   "cell_type": "markdown",
   "metadata": {},
   "source": [
    "- La distribuzione dell'aspettativa di vita è simile alla composizione di più gaussiane con:\n",
    "    - Valor medio 69,22\n",
    "    - Deviazione Standard 9,52\n",
    "- I valori minimo e massimo mai registrati, sono rispettivamente\n",
    "    - 36.3 Haiti (2010)\n",
    "    - 89.0 per alcuni anni dei paesi più sviluppati come Francia, Italia e Giappone"
   ]
  },
  {
   "cell_type": "code",
   "execution_count": 13,
   "metadata": {},
   "outputs": [
    {
     "data": {
      "image/png": "[encoded data removed]",
      "text/plain": [
       "<Figure size 648x576 with 1 Axes>"
      ]
     },
     "metadata": {
      "needs_background": "light"
     },
     "output_type": "display_data"
    }
   ],
   "source": [
    "plt.figure(figsize=(9, 8))\n",
    "sns.distplot(led['AdultMortality'], color='g', bins=100, hist_kws={'alpha': 0.4});"
   ]
  },
  {
   "cell_type": "markdown",
   "metadata": {},
   "source": [
    "- Si è riportata la distribuzione della mortalità in età adulta\n",
    "    - Valor medio 164.80\n",
    "    - Deviazione Standard 124.29"
   ]
  },
  {
   "cell_type": "markdown",
   "metadata": {},
   "source": [
    "### Correlazione tra le Variabili\n",
    "- Per quantificare la correlazione, si è utilizzato il _coefficiente di correlazione di Pearson_\n",
    "- Date due variabili casuali $X$ e $Y$, il coefficiente è dato dal rapporto tra la loro covarianza $\\sigma_{XY}$ e il prodotto delle deviazioni standard $\\sigma_X$ e $\\sigma_Y$\n",
    "$$ \\rho(X,Y) = \\frac{\\sigma_{XY}}{\\sigma_X\\sigma_Y} $$\n",
    "- Data una serie di campioni $(x_1,y_1),\\ldots,(x_n,y_n)$ delle due variabili con medie $\\mu_X$ e $\\mu_Y$, la correlazione si può stimare come\n",
    "$$ \\frac{\\sum_{i=1}^n{(x_i-\\mu_X)\\cdot(y_i-\\mu_Y)}}{n\\cdot\\sigma_X\\cdot\\sigma_Y} $$\n",
    "\n",
    "- Il coefficiente ha un valore compreso tra 1 e -1, dove\n",
    "  - valori vicini a 1 indicano correlazione diretta (Y cresce al crescere di X)\n",
    "  - valori vicini a -1 indicano correlazione inversa (Y descresce al crescere di X)\n",
    "  - valori vicini a 0 indicano assenza di correlazione"
   ]
  },
  {
   "cell_type": "markdown",
   "metadata": {},
   "source": [
    "- Si riporta ad esempio la correlazione tra la mortalità in età adulta e il consumo di alcol"
   ]
  },
  {
   "cell_type": "code",
   "execution_count": 14,
   "metadata": {},
   "outputs": [
    {
     "data": {
      "text/plain": [
       "-0.17553508575848253"
      ]
     },
     "execution_count": 14,
     "metadata": {},
     "output_type": "execute_result"
    }
   ],
   "source": [
    "Alcohol = led[\"Alcohol\"].values\n",
    "AdultMortality = led[\"AdultMortality\"].values\n",
    "\n",
    "def mycorrelation(X,Y):\n",
    "    return np.mean((X-X.mean()) * (Y-Y.mean())) / (X.std() * Y.std())\n",
    "\n",
    "mycorrelation(Alcohol, AdultMortality)"
   ]
  },
  {
   "cell_type": "code",
   "execution_count": 15,
   "metadata": {},
   "outputs": [],
   "source": [
    "led1 = led\n",
    "led1.drop([\"Country\", \"Status\", \"Year\"], axis=1, inplace=True)"
   ]
  },
  {
   "cell_type": "markdown",
   "metadata": {},
   "source": [
    "- Applicando la discretizzazione delle feature Country, Status e Year, si è visto che l'accuratezza dei modelli cambia di poco e non sempre migliora\n",
    "    - Mentre si complica il processo di addestramento del modello\n",
    "    - Queste feature sono state quindi escluse dall'addestramento del modello\n",
    "- Si riportano di seguito i valori delle correlazioni tra tutte le feature prese in considerazione, in formato tabellare"
   ]
  },
  {
   "cell_type": "code",
   "execution_count": 16,
   "metadata": {
    "scrolled": true
   },
   "outputs": [
    {
     "data": {
      "text/html": [
       "<div>\n",
       "<style scoped>\n",
       "    .dataframe tbody tr th:only-of-type {\n",
       "        vertical-align: middle;\n",
       "    }\n",
       "\n",
       "    .dataframe tbody tr th {\n",
       "        vertical-align: top;\n",
       "    }\n",
       "\n",
       "    .dataframe thead th {\n",
       "        text-align: right;\n",
       "    }\n",
       "</style>\n",
       "<table border=\"1\" class=\"dataframe\">\n",
       "  <thead>\n",
       "    <tr style=\"text-align: right;\">\n",
       "      <th></th>\n",
       "      <th>Lifeexpectancy</th>\n",
       "      <th>AdultMortality</th>\n",
       "      <th>infantdeaths</th>\n",
       "      <th>Alcohol</th>\n",
       "      <th>percentageexpenditure</th>\n",
       "      <th>HepatitisB</th>\n",
       "      <th>Measles</th>\n",
       "      <th>BMI</th>\n",
       "      <th>under-fivedeaths</th>\n",
       "      <th>Polio</th>\n",
       "      <th>Totalexpenditure</th>\n",
       "      <th>Diphtheria</th>\n",
       "      <th>HIV/AIDS</th>\n",
       "      <th>GDP</th>\n",
       "      <th>Population</th>\n",
       "      <th>thinness1-19years</th>\n",
       "      <th>thinness5-9years</th>\n",
       "      <th>Incomecompositionofresources</th>\n",
       "      <th>Schooling</th>\n",
       "    </tr>\n",
       "  </thead>\n",
       "  <tbody>\n",
       "    <tr>\n",
       "      <th>Lifeexpectancy</th>\n",
       "      <td>1.000000</td>\n",
       "      <td>-0.702523</td>\n",
       "      <td>-0.169074</td>\n",
       "      <td>0.402718</td>\n",
       "      <td>0.409631</td>\n",
       "      <td>0.199935</td>\n",
       "      <td>-0.068881</td>\n",
       "      <td>0.542042</td>\n",
       "      <td>-0.192265</td>\n",
       "      <td>0.327294</td>\n",
       "      <td>0.174718</td>\n",
       "      <td>0.341331</td>\n",
       "      <td>-0.592236</td>\n",
       "      <td>0.441322</td>\n",
       "      <td>-0.022305</td>\n",
       "      <td>-0.457838</td>\n",
       "      <td>-0.457508</td>\n",
       "      <td>0.721083</td>\n",
       "      <td>0.727630</td>\n",
       "    </tr>\n",
       "    <tr>\n",
       "      <th>AdultMortality</th>\n",
       "      <td>-0.702523</td>\n",
       "      <td>1.000000</td>\n",
       "      <td>0.042450</td>\n",
       "      <td>-0.175535</td>\n",
       "      <td>-0.237610</td>\n",
       "      <td>-0.105225</td>\n",
       "      <td>-0.003967</td>\n",
       "      <td>-0.351542</td>\n",
       "      <td>0.060365</td>\n",
       "      <td>-0.199853</td>\n",
       "      <td>-0.085227</td>\n",
       "      <td>-0.191429</td>\n",
       "      <td>0.550691</td>\n",
       "      <td>-0.255035</td>\n",
       "      <td>-0.015012</td>\n",
       "      <td>0.272230</td>\n",
       "      <td>0.286723</td>\n",
       "      <td>-0.442203</td>\n",
       "      <td>-0.421171</td>\n",
       "    </tr>\n",
       "    <tr>\n",
       "      <th>infantdeaths</th>\n",
       "      <td>-0.169074</td>\n",
       "      <td>0.042450</td>\n",
       "      <td>1.000000</td>\n",
       "      <td>-0.106217</td>\n",
       "      <td>-0.090765</td>\n",
       "      <td>-0.231769</td>\n",
       "      <td>0.532680</td>\n",
       "      <td>-0.234425</td>\n",
       "      <td>0.996906</td>\n",
       "      <td>-0.156929</td>\n",
       "      <td>-0.146951</td>\n",
       "      <td>-0.161871</td>\n",
       "      <td>0.007712</td>\n",
       "      <td>-0.098092</td>\n",
       "      <td>0.671758</td>\n",
       "      <td>0.463415</td>\n",
       "      <td>0.461908</td>\n",
       "      <td>-0.134754</td>\n",
       "      <td>-0.214372</td>\n",
       "    </tr>\n",
       "    <tr>\n",
       "      <th>Alcohol</th>\n",
       "      <td>0.402718</td>\n",
       "      <td>-0.175535</td>\n",
       "      <td>-0.106217</td>\n",
       "      <td>1.000000</td>\n",
       "      <td>0.417047</td>\n",
       "      <td>0.109889</td>\n",
       "      <td>-0.050110</td>\n",
       "      <td>0.353396</td>\n",
       "      <td>-0.101082</td>\n",
       "      <td>0.240315</td>\n",
       "      <td>0.214885</td>\n",
       "      <td>0.242951</td>\n",
       "      <td>-0.027113</td>\n",
       "      <td>0.443433</td>\n",
       "      <td>-0.028880</td>\n",
       "      <td>-0.403755</td>\n",
       "      <td>-0.386208</td>\n",
       "      <td>0.561074</td>\n",
       "      <td>0.616975</td>\n",
       "    </tr>\n",
       "    <tr>\n",
       "      <th>percentageexpenditure</th>\n",
       "      <td>0.409631</td>\n",
       "      <td>-0.237610</td>\n",
       "      <td>-0.090765</td>\n",
       "      <td>0.417047</td>\n",
       "      <td>1.000000</td>\n",
       "      <td>0.016760</td>\n",
       "      <td>-0.063071</td>\n",
       "      <td>0.242738</td>\n",
       "      <td>-0.092158</td>\n",
       "      <td>0.128626</td>\n",
       "      <td>0.183872</td>\n",
       "      <td>0.134813</td>\n",
       "      <td>-0.095085</td>\n",
       "      <td>0.959299</td>\n",
       "      <td>-0.016792</td>\n",
       "      <td>-0.255035</td>\n",
       "      <td>-0.255635</td>\n",
       "      <td>0.402170</td>\n",
       "      <td>0.422088</td>\n",
       "    </tr>\n",
       "    <tr>\n",
       "      <th>HepatitisB</th>\n",
       "      <td>0.199935</td>\n",
       "      <td>-0.105225</td>\n",
       "      <td>-0.231769</td>\n",
       "      <td>0.109889</td>\n",
       "      <td>0.016760</td>\n",
       "      <td>1.000000</td>\n",
       "      <td>-0.124800</td>\n",
       "      <td>0.143302</td>\n",
       "      <td>-0.240766</td>\n",
       "      <td>0.463331</td>\n",
       "      <td>0.113327</td>\n",
       "      <td>0.588990</td>\n",
       "      <td>-0.094802</td>\n",
       "      <td>0.041850</td>\n",
       "      <td>-0.129723</td>\n",
       "      <td>-0.129406</td>\n",
       "      <td>-0.133251</td>\n",
       "      <td>0.184921</td>\n",
       "      <td>0.215182</td>\n",
       "    </tr>\n",
       "    <tr>\n",
       "      <th>Measles</th>\n",
       "      <td>-0.068881</td>\n",
       "      <td>-0.003967</td>\n",
       "      <td>0.532680</td>\n",
       "      <td>-0.050110</td>\n",
       "      <td>-0.063071</td>\n",
       "      <td>-0.124800</td>\n",
       "      <td>1.000000</td>\n",
       "      <td>-0.153245</td>\n",
       "      <td>0.517506</td>\n",
       "      <td>-0.057850</td>\n",
       "      <td>-0.113583</td>\n",
       "      <td>-0.058606</td>\n",
       "      <td>-0.003522</td>\n",
       "      <td>-0.064768</td>\n",
       "      <td>0.321946</td>\n",
       "      <td>0.180642</td>\n",
       "      <td>0.174946</td>\n",
       "      <td>-0.058277</td>\n",
       "      <td>-0.115660</td>\n",
       "    </tr>\n",
       "    <tr>\n",
       "      <th>BMI</th>\n",
       "      <td>0.542042</td>\n",
       "      <td>-0.351542</td>\n",
       "      <td>-0.234425</td>\n",
       "      <td>0.353396</td>\n",
       "      <td>0.242738</td>\n",
       "      <td>0.143302</td>\n",
       "      <td>-0.153245</td>\n",
       "      <td>1.000000</td>\n",
       "      <td>-0.242137</td>\n",
       "      <td>0.186268</td>\n",
       "      <td>0.189469</td>\n",
       "      <td>0.176295</td>\n",
       "      <td>-0.210897</td>\n",
       "      <td>0.266114</td>\n",
       "      <td>-0.081416</td>\n",
       "      <td>-0.547018</td>\n",
       "      <td>-0.554094</td>\n",
       "      <td>0.510505</td>\n",
       "      <td>0.554844</td>\n",
       "    </tr>\n",
       "    <tr>\n",
       "      <th>under-fivedeaths</th>\n",
       "      <td>-0.192265</td>\n",
       "      <td>0.060365</td>\n",
       "      <td>0.996906</td>\n",
       "      <td>-0.101082</td>\n",
       "      <td>-0.092158</td>\n",
       "      <td>-0.240766</td>\n",
       "      <td>0.517506</td>\n",
       "      <td>-0.242137</td>\n",
       "      <td>1.000000</td>\n",
       "      <td>-0.171164</td>\n",
       "      <td>-0.145803</td>\n",
       "      <td>-0.178448</td>\n",
       "      <td>0.019476</td>\n",
       "      <td>-0.100331</td>\n",
       "      <td>0.658680</td>\n",
       "      <td>0.464785</td>\n",
       "      <td>0.462289</td>\n",
       "      <td>-0.148097</td>\n",
       "      <td>-0.226013</td>\n",
       "    </tr>\n",
       "    <tr>\n",
       "      <th>Polio</th>\n",
       "      <td>0.327294</td>\n",
       "      <td>-0.199853</td>\n",
       "      <td>-0.156929</td>\n",
       "      <td>0.240315</td>\n",
       "      <td>0.128626</td>\n",
       "      <td>0.463331</td>\n",
       "      <td>-0.057850</td>\n",
       "      <td>0.186268</td>\n",
       "      <td>-0.171164</td>\n",
       "      <td>1.000000</td>\n",
       "      <td>0.119768</td>\n",
       "      <td>0.609245</td>\n",
       "      <td>-0.107885</td>\n",
       "      <td>0.156809</td>\n",
       "      <td>-0.045387</td>\n",
       "      <td>-0.164070</td>\n",
       "      <td>-0.174489</td>\n",
       "      <td>0.314682</td>\n",
       "      <td>0.350147</td>\n",
       "    </tr>\n",
       "    <tr>\n",
       "      <th>Totalexpenditure</th>\n",
       "      <td>0.174718</td>\n",
       "      <td>-0.085227</td>\n",
       "      <td>-0.146951</td>\n",
       "      <td>0.214885</td>\n",
       "      <td>0.183872</td>\n",
       "      <td>0.113327</td>\n",
       "      <td>-0.113583</td>\n",
       "      <td>0.189469</td>\n",
       "      <td>-0.145803</td>\n",
       "      <td>0.119768</td>\n",
       "      <td>1.000000</td>\n",
       "      <td>0.129915</td>\n",
       "      <td>0.043101</td>\n",
       "      <td>0.180373</td>\n",
       "      <td>-0.079962</td>\n",
       "      <td>-0.209872</td>\n",
       "      <td>-0.217865</td>\n",
       "      <td>0.183653</td>\n",
       "      <td>0.243783</td>\n",
       "    </tr>\n",
       "    <tr>\n",
       "      <th>Diphtheria</th>\n",
       "      <td>0.341331</td>\n",
       "      <td>-0.191429</td>\n",
       "      <td>-0.161871</td>\n",
       "      <td>0.242951</td>\n",
       "      <td>0.134813</td>\n",
       "      <td>0.588990</td>\n",
       "      <td>-0.058606</td>\n",
       "      <td>0.176295</td>\n",
       "      <td>-0.178448</td>\n",
       "      <td>0.609245</td>\n",
       "      <td>0.129915</td>\n",
       "      <td>1.000000</td>\n",
       "      <td>-0.117601</td>\n",
       "      <td>0.158438</td>\n",
       "      <td>-0.039898</td>\n",
       "      <td>-0.187242</td>\n",
       "      <td>-0.180952</td>\n",
       "      <td>0.343262</td>\n",
       "      <td>0.350398</td>\n",
       "    </tr>\n",
       "    <tr>\n",
       "      <th>HIV/AIDS</th>\n",
       "      <td>-0.592236</td>\n",
       "      <td>0.550691</td>\n",
       "      <td>0.007712</td>\n",
       "      <td>-0.027113</td>\n",
       "      <td>-0.095085</td>\n",
       "      <td>-0.094802</td>\n",
       "      <td>-0.003522</td>\n",
       "      <td>-0.210897</td>\n",
       "      <td>0.019476</td>\n",
       "      <td>-0.107885</td>\n",
       "      <td>0.043101</td>\n",
       "      <td>-0.117601</td>\n",
       "      <td>1.000000</td>\n",
       "      <td>-0.108081</td>\n",
       "      <td>-0.027801</td>\n",
       "      <td>0.172592</td>\n",
       "      <td>0.183147</td>\n",
       "      <td>-0.248590</td>\n",
       "      <td>-0.211840</td>\n",
       "    </tr>\n",
       "    <tr>\n",
       "      <th>GDP</th>\n",
       "      <td>0.441322</td>\n",
       "      <td>-0.255035</td>\n",
       "      <td>-0.098092</td>\n",
       "      <td>0.443433</td>\n",
       "      <td>0.959299</td>\n",
       "      <td>0.041850</td>\n",
       "      <td>-0.064768</td>\n",
       "      <td>0.266114</td>\n",
       "      <td>-0.100331</td>\n",
       "      <td>0.156809</td>\n",
       "      <td>0.180373</td>\n",
       "      <td>0.158438</td>\n",
       "      <td>-0.108081</td>\n",
       "      <td>1.000000</td>\n",
       "      <td>-0.020369</td>\n",
       "      <td>-0.277498</td>\n",
       "      <td>-0.277959</td>\n",
       "      <td>0.446856</td>\n",
       "      <td>0.467947</td>\n",
       "    </tr>\n",
       "    <tr>\n",
       "      <th>Population</th>\n",
       "      <td>-0.022305</td>\n",
       "      <td>-0.015012</td>\n",
       "      <td>0.671758</td>\n",
       "      <td>-0.028880</td>\n",
       "      <td>-0.016792</td>\n",
       "      <td>-0.129723</td>\n",
       "      <td>0.321946</td>\n",
       "      <td>-0.081416</td>\n",
       "      <td>0.658680</td>\n",
       "      <td>-0.045387</td>\n",
       "      <td>-0.079962</td>\n",
       "      <td>-0.039898</td>\n",
       "      <td>-0.027801</td>\n",
       "      <td>-0.020369</td>\n",
       "      <td>1.000000</td>\n",
       "      <td>0.282529</td>\n",
       "      <td>0.277913</td>\n",
       "      <td>-0.008132</td>\n",
       "      <td>-0.040312</td>\n",
       "    </tr>\n",
       "    <tr>\n",
       "      <th>thinness1-19years</th>\n",
       "      <td>-0.457838</td>\n",
       "      <td>0.272230</td>\n",
       "      <td>0.463415</td>\n",
       "      <td>-0.403755</td>\n",
       "      <td>-0.255035</td>\n",
       "      <td>-0.129406</td>\n",
       "      <td>0.180642</td>\n",
       "      <td>-0.547018</td>\n",
       "      <td>0.464785</td>\n",
       "      <td>-0.164070</td>\n",
       "      <td>-0.209872</td>\n",
       "      <td>-0.187242</td>\n",
       "      <td>0.172592</td>\n",
       "      <td>-0.277498</td>\n",
       "      <td>0.282529</td>\n",
       "      <td>1.000000</td>\n",
       "      <td>0.927913</td>\n",
       "      <td>-0.453679</td>\n",
       "      <td>-0.491199</td>\n",
       "    </tr>\n",
       "    <tr>\n",
       "      <th>thinness5-9years</th>\n",
       "      <td>-0.457508</td>\n",
       "      <td>0.286723</td>\n",
       "      <td>0.461908</td>\n",
       "      <td>-0.386208</td>\n",
       "      <td>-0.255635</td>\n",
       "      <td>-0.133251</td>\n",
       "      <td>0.174946</td>\n",
       "      <td>-0.554094</td>\n",
       "      <td>0.462289</td>\n",
       "      <td>-0.174489</td>\n",
       "      <td>-0.217865</td>\n",
       "      <td>-0.180952</td>\n",
       "      <td>0.183147</td>\n",
       "      <td>-0.277959</td>\n",
       "      <td>0.277913</td>\n",
       "      <td>0.927913</td>\n",
       "      <td>1.000000</td>\n",
       "      <td>-0.438484</td>\n",
       "      <td>-0.472482</td>\n",
       "    </tr>\n",
       "    <tr>\n",
       "      <th>Incomecompositionofresources</th>\n",
       "      <td>0.721083</td>\n",
       "      <td>-0.442203</td>\n",
       "      <td>-0.134754</td>\n",
       "      <td>0.561074</td>\n",
       "      <td>0.402170</td>\n",
       "      <td>0.184921</td>\n",
       "      <td>-0.058277</td>\n",
       "      <td>0.510505</td>\n",
       "      <td>-0.148097</td>\n",
       "      <td>0.314682</td>\n",
       "      <td>0.183653</td>\n",
       "      <td>0.343262</td>\n",
       "      <td>-0.248590</td>\n",
       "      <td>0.446856</td>\n",
       "      <td>-0.008132</td>\n",
       "      <td>-0.453679</td>\n",
       "      <td>-0.438484</td>\n",
       "      <td>1.000000</td>\n",
       "      <td>0.784741</td>\n",
       "    </tr>\n",
       "    <tr>\n",
       "      <th>Schooling</th>\n",
       "      <td>0.727630</td>\n",
       "      <td>-0.421171</td>\n",
       "      <td>-0.214372</td>\n",
       "      <td>0.616975</td>\n",
       "      <td>0.422088</td>\n",
       "      <td>0.215182</td>\n",
       "      <td>-0.115660</td>\n",
       "      <td>0.554844</td>\n",
       "      <td>-0.226013</td>\n",
       "      <td>0.350147</td>\n",
       "      <td>0.243783</td>\n",
       "      <td>0.350398</td>\n",
       "      <td>-0.211840</td>\n",
       "      <td>0.467947</td>\n",
       "      <td>-0.040312</td>\n",
       "      <td>-0.491199</td>\n",
       "      <td>-0.472482</td>\n",
       "      <td>0.784741</td>\n",
       "      <td>1.000000</td>\n",
       "    </tr>\n",
       "  </tbody>\n",
       "</table>\n",
       "</div>"
      ],
      "text/plain": [
       "                              Lifeexpectancy  AdultMortality  infantdeaths  \\\n",
       "Lifeexpectancy                      1.000000       -0.702523     -0.169074   \n",
       "AdultMortality                     -0.702523        1.000000      0.042450   \n",
       "infantdeaths                       -0.169074        0.042450      1.000000   \n",
       "Alcohol                             0.402718       -0.175535     -0.106217   \n",
       "percentageexpenditure               0.409631       -0.237610     -0.090765   \n",
       "HepatitisB                          0.199935       -0.105225     -0.231769   \n",
       "Measles                            -0.068881       -0.003967      0.532680   \n",
       "BMI                                 0.542042       -0.351542     -0.234425   \n",
       "under-fivedeaths                   -0.192265        0.060365      0.996906   \n",
       "Polio                               0.327294       -0.199853     -0.156929   \n",
       "Totalexpenditure                    0.174718       -0.085227     -0.146951   \n",
       "Diphtheria                          0.341331       -0.191429     -0.161871   \n",
       "HIV/AIDS                           -0.592236        0.550691      0.007712   \n",
       "GDP                                 0.441322       -0.255035     -0.098092   \n",
       "Population                         -0.022305       -0.015012      0.671758   \n",
       "thinness1-19years                  -0.457838        0.272230      0.463415   \n",
       "thinness5-9years                   -0.457508        0.286723      0.461908   \n",
       "Incomecompositionofresources        0.721083       -0.442203     -0.134754   \n",
       "Schooling                           0.727630       -0.421171     -0.214372   \n",
       "\n",
       "                               Alcohol  percentageexpenditure  HepatitisB  \\\n",
       "Lifeexpectancy                0.402718               0.409631    0.199935   \n",
       "AdultMortality               -0.175535              -0.237610   -0.105225   \n",
       "infantdeaths                 -0.106217              -0.090765   -0.231769   \n",
       "Alcohol                       1.000000               0.417047    0.109889   \n",
       "percentageexpenditure         0.417047               1.000000    0.016760   \n",
       "HepatitisB                    0.109889               0.016760    1.000000   \n",
       "Measles                      -0.050110              -0.063071   -0.124800   \n",
       "BMI                           0.353396               0.242738    0.143302   \n",
       "under-fivedeaths             -0.101082              -0.092158   -0.240766   \n",
       "Polio                         0.240315               0.128626    0.463331   \n",
       "Totalexpenditure              0.214885               0.183872    0.113327   \n",
       "Diphtheria                    0.242951               0.134813    0.588990   \n",
       "HIV/AIDS                     -0.027113              -0.095085   -0.094802   \n",
       "GDP                           0.443433               0.959299    0.041850   \n",
       "Population                   -0.028880              -0.016792   -0.129723   \n",
       "thinness1-19years            -0.403755              -0.255035   -0.129406   \n",
       "thinness5-9years             -0.386208              -0.255635   -0.133251   \n",
       "Incomecompositionofresources  0.561074               0.402170    0.184921   \n",
       "Schooling                     0.616975               0.422088    0.215182   \n",
       "\n",
       "                               Measles       BMI  under-fivedeaths     Polio  \\\n",
       "Lifeexpectancy               -0.068881  0.542042         -0.192265  0.327294   \n",
       "AdultMortality               -0.003967 -0.351542          0.060365 -0.199853   \n",
       "infantdeaths                  0.532680 -0.234425          0.996906 -0.156929   \n",
       "Alcohol                      -0.050110  0.353396         -0.101082  0.240315   \n",
       "percentageexpenditure        -0.063071  0.242738         -0.092158  0.128626   \n",
       "HepatitisB                   -0.124800  0.143302         -0.240766  0.463331   \n",
       "Measles                       1.000000 -0.153245          0.517506 -0.057850   \n",
       "BMI                          -0.153245  1.000000         -0.242137  0.186268   \n",
       "under-fivedeaths              0.517506 -0.242137          1.000000 -0.171164   \n",
       "Polio                        -0.057850  0.186268         -0.171164  1.000000   \n",
       "Totalexpenditure             -0.113583  0.189469         -0.145803  0.119768   \n",
       "Diphtheria                   -0.058606  0.176295         -0.178448  0.609245   \n",
       "HIV/AIDS                     -0.003522 -0.210897          0.019476 -0.107885   \n",
       "GDP                          -0.064768  0.266114         -0.100331  0.156809   \n",
       "Population                    0.321946 -0.081416          0.658680 -0.045387   \n",
       "thinness1-19years             0.180642 -0.547018          0.464785 -0.164070   \n",
       "thinness5-9years              0.174946 -0.554094          0.462289 -0.174489   \n",
       "Incomecompositionofresources -0.058277  0.510505         -0.148097  0.314682   \n",
       "Schooling                    -0.115660  0.554844         -0.226013  0.350147   \n",
       "\n",
       "                              Totalexpenditure  Diphtheria  HIV/AIDS  \\\n",
       "Lifeexpectancy                        0.174718    0.341331 -0.592236   \n",
       "AdultMortality                       -0.085227   -0.191429  0.550691   \n",
       "infantdeaths                         -0.146951   -0.161871  0.007712   \n",
       "Alcohol                               0.214885    0.242951 -0.027113   \n",
       "percentageexpenditure                 0.183872    0.134813 -0.095085   \n",
       "HepatitisB                            0.113327    0.588990 -0.094802   \n",
       "Measles                              -0.113583   -0.058606 -0.003522   \n",
       "BMI                                   0.189469    0.176295 -0.210897   \n",
       "under-fivedeaths                     -0.145803   -0.178448  0.019476   \n",
       "Polio                                 0.119768    0.609245 -0.107885   \n",
       "Totalexpenditure                      1.000000    0.129915  0.043101   \n",
       "Diphtheria                            0.129915    1.000000 -0.117601   \n",
       "HIV/AIDS                              0.043101   -0.117601  1.000000   \n",
       "GDP                                   0.180373    0.158438 -0.108081   \n",
       "Population                           -0.079962   -0.039898 -0.027801   \n",
       "thinness1-19years                    -0.209872   -0.187242  0.172592   \n",
       "thinness5-9years                     -0.217865   -0.180952  0.183147   \n",
       "Incomecompositionofresources          0.183653    0.343262 -0.248590   \n",
       "Schooling                             0.243783    0.350398 -0.211840   \n",
       "\n",
       "                                   GDP  Population  thinness1-19years  \\\n",
       "Lifeexpectancy                0.441322   -0.022305          -0.457838   \n",
       "AdultMortality               -0.255035   -0.015012           0.272230   \n",
       "infantdeaths                 -0.098092    0.671758           0.463415   \n",
       "Alcohol                       0.443433   -0.028880          -0.403755   \n",
       "percentageexpenditure         0.959299   -0.016792          -0.255035   \n",
       "HepatitisB                    0.041850   -0.129723          -0.129406   \n",
       "Measles                      -0.064768    0.321946           0.180642   \n",
       "BMI                           0.266114   -0.081416          -0.547018   \n",
       "under-fivedeaths             -0.100331    0.658680           0.464785   \n",
       "Polio                         0.156809   -0.045387          -0.164070   \n",
       "Totalexpenditure              0.180373   -0.079962          -0.209872   \n",
       "Diphtheria                    0.158438   -0.039898          -0.187242   \n",
       "HIV/AIDS                     -0.108081   -0.027801           0.172592   \n",
       "GDP                           1.000000   -0.020369          -0.277498   \n",
       "Population                   -0.020369    1.000000           0.282529   \n",
       "thinness1-19years            -0.277498    0.282529           1.000000   \n",
       "thinness5-9years             -0.277959    0.277913           0.927913   \n",
       "Incomecompositionofresources  0.446856   -0.008132          -0.453679   \n",
       "Schooling                     0.467947   -0.040312          -0.491199   \n",
       "\n",
       "                              thinness5-9years  Incomecompositionofresources  \\\n",
       "Lifeexpectancy                       -0.457508                      0.721083   \n",
       "AdultMortality                        0.286723                     -0.442203   \n",
       "infantdeaths                          0.461908                     -0.134754   \n",
       "Alcohol                              -0.386208                      0.561074   \n",
       "percentageexpenditure                -0.255635                      0.402170   \n",
       "HepatitisB                           -0.133251                      0.184921   \n",
       "Measles                               0.174946                     -0.058277   \n",
       "BMI                                  -0.554094                      0.510505   \n",
       "under-fivedeaths                      0.462289                     -0.148097   \n",
       "Polio                                -0.174489                      0.314682   \n",
       "Totalexpenditure                     -0.217865                      0.183653   \n",
       "Diphtheria                           -0.180952                      0.343262   \n",
       "HIV/AIDS                              0.183147                     -0.248590   \n",
       "GDP                                  -0.277959                      0.446856   \n",
       "Population                            0.277913                     -0.008132   \n",
       "thinness1-19years                     0.927913                     -0.453679   \n",
       "thinness5-9years                      1.000000                     -0.438484   \n",
       "Incomecompositionofresources         -0.438484                      1.000000   \n",
       "Schooling                            -0.472482                      0.784741   \n",
       "\n",
       "                              Schooling  \n",
       "Lifeexpectancy                 0.727630  \n",
       "AdultMortality                -0.421171  \n",
       "infantdeaths                  -0.214372  \n",
       "Alcohol                        0.616975  \n",
       "percentageexpenditure          0.422088  \n",
       "HepatitisB                     0.215182  \n",
       "Measles                       -0.115660  \n",
       "BMI                            0.554844  \n",
       "under-fivedeaths              -0.226013  \n",
       "Polio                          0.350147  \n",
       "Totalexpenditure               0.243783  \n",
       "Diphtheria                     0.350398  \n",
       "HIV/AIDS                      -0.211840  \n",
       "GDP                            0.467947  \n",
       "Population                    -0.040312  \n",
       "thinness1-19years             -0.491199  \n",
       "thinness5-9years              -0.472482  \n",
       "Incomecompositionofresources   0.784741  \n",
       "Schooling                      1.000000  "
      ]
     },
     "execution_count": 16,
     "metadata": {},
     "output_type": "execute_result"
    }
   ],
   "source": [
    "df = led1.corr()\n",
    "df"
   ]
  },
  {
   "cell_type": "markdown",
   "metadata": {},
   "source": [
    "Di seguito si utilizza la classe *sns.heatmap*, con la quale si grafica la precedente matrice di correlazione. In base a quanto due variabili siano correlate fra loro il pixel del grafico assumerà un colore secondo la scala indicata a fianco. In particolare, si mostrano solo quelle variabili che presentano una correlazione maggiore di 0.4 in valore assoluto per chiarezza."
   ]
  },
  {
   "cell_type": "code",
   "execution_count": 17,
   "metadata": {},
   "outputs": [
    {
     "data": {
      "image/png": "[encoded data removed]",
      "text/plain": [
       "<Figure size 864x720 with 2 Axes>"
      ]
     },
     "metadata": {
      "needs_background": "light"
     },
     "output_type": "display_data"
    }
   ],
   "source": [
    "plt.figure(figsize=(12, 10))\n",
    "\n",
    "sns.heatmap(df[(df >= 0.5) | (df <= -0.4)], \n",
    "            cmap='viridis', vmax=1.0, vmin=-1.0, linewidths=0.1,\n",
    "            annot=True, annot_kws={\"size\": 8}, square=True);"
   ]
  },
  {
   "cell_type": "markdown",
   "metadata": {},
   "source": [
    "- Si nota, ad esempio, che la correlazione tra il consumo di alcol e la mortalità in età adulta non è alta quanto ci si aspettava\n",
    "- Risulta invece evidente la correlazione tra aspettativa di vita e anni di istruzione e tra PIL e Spesa per la salute\n",
    "\n",
    "Si visualizzano a schermo tutti i grafici scatter fra le diverse coppie di features"
   ]
  },
  {
   "cell_type": "code",
   "execution_count": 18,
   "metadata": {},
   "outputs": [
    {
     "data": {
      "image/png": "[encoded data removed]",
      "text/plain": [
       "<Figure size 900x180 with 5 Axes>"
      ]
     },
     "metadata": {
      "needs_background": "light"
     },
     "output_type": "display_data"
    },
    {
     "data": {
      "image/png": "[encoded data removed]",
      "text/plain": [
       "<Figure size 900x180 with 5 Axes>"
      ]
     },
     "metadata": {
      "needs_background": "light"
     },
     "output_type": "display_data"
    },
    {
     "data": {
      "image/png": "[encoded data removed]",
      "text/plain": [
       "<Figure size 900x180 with 5 Axes>"
      ]
     },
     "metadata": {
      "needs_background": "light"
     },
     "output_type": "display_data"
    },
    {
     "data": {
      "image/png": "[encoded data removed]",
      "text/plain": [
       "<Figure size 720x180 with 4 Axes>"
      ]
     },
     "metadata": {
      "needs_background": "light"
     },
     "output_type": "display_data"
    }
   ],
   "source": [
    "for i in range(0, len(led1.columns), 5):\n",
    "    sns.pairplot(data=led1,\n",
    "                x_vars=led1.columns[i:i+5],\n",
    "                y_vars=['Lifeexpectancy'])"
   ]
  },
  {
   "cell_type": "markdown",
   "metadata": {},
   "source": [
    "- Si riportano ora le 5 feature più correlate con l'Aspettativa di Vita"
   ]
  },
  {
   "cell_type": "code",
   "execution_count": 19,
   "metadata": {},
   "outputs": [
    {
     "name": "stdout",
     "output_type": "stream",
     "text": [
      "Ecco le 5 feature più correlate con l'Aspettativa di Vita:\n",
      "Schooling                       0.727630\n",
      "Incomecompositionofresources    0.721083\n",
      "BMI                             0.542042\n",
      "HIV/AIDS                       -0.592236\n",
      "AdultMortality                 -0.702523\n",
      "Name: Lifeexpectancy, dtype: float64\n"
     ]
    }
   ],
   "source": [
    "df_num_corr = led.corr()['Lifeexpectancy'][1:] # tolta la prima visto che è l'aspettativa di vita stessa\n",
    "golden_features_list = df_num_corr[abs(df_num_corr) > 0.5].sort_values(ascending=False)\n",
    "print(\"Ecco le {} feature più correlate con l'Aspettativa di Vita:\\n{}\".format(len(golden_features_list), golden_features_list))"
   ]
  },
  {
   "cell_type": "markdown",
   "metadata": {},
   "source": [
    "- Si esegue lo Zoom su qualche coppia di variabili la cui correlazione risulti significativa"
   ]
  },
  {
   "cell_type": "code",
   "execution_count": 20,
   "metadata": {},
   "outputs": [
    {
     "data": {
      "text/plain": [
       "<matplotlib.axes._subplots.AxesSubplot at 0x21eb44efc50>"
      ]
     },
     "execution_count": 20,
     "metadata": {},
     "output_type": "execute_result"
    },
    {
     "data": {
      "image/png": "[encoded data removed]",
      "text/plain": [
       "<Figure size 432x288 with 1 Axes>"
      ]
     },
     "metadata": {
      "needs_background": "light"
     },
     "output_type": "display_data"
    }
   ],
   "source": [
    "led.plot.scatter(\"Incomecompositionofresources\",\"Lifeexpectancy\")"
   ]
  },
  {
   "cell_type": "code",
   "execution_count": 21,
   "metadata": {},
   "outputs": [
    {
     "data": {
      "text/plain": [
       "<matplotlib.axes._subplots.AxesSubplot at 0x21eb3036198>"
      ]
     },
     "execution_count": 21,
     "metadata": {},
     "output_type": "execute_result"
    },
    {
     "data": {
      "image/png": "[encoded data removed]",
      "text/plain": [
       "<Figure size 432x288 with 1 Axes>"
      ]
     },
     "metadata": {
      "needs_background": "light"
     },
     "output_type": "display_data"
    }
   ],
   "source": [
    "led.plot.scatter(\"BMI\",\"Lifeexpectancy\")"
   ]
  },
  {
   "cell_type": "code",
   "execution_count": 22,
   "metadata": {},
   "outputs": [
    {
     "data": {
      "text/plain": [
       "<matplotlib.axes._subplots.AxesSubplot at 0x21eb35de4a8>"
      ]
     },
     "execution_count": 22,
     "metadata": {},
     "output_type": "execute_result"
    },
    {
     "data": {
      "image/png": "[encoded data removed]",
      "text/plain": [
       "<Figure size 432x288 with 1 Axes>"
      ]
     },
     "metadata": {
      "needs_background": "light"
     },
     "output_type": "display_data"
    }
   ],
   "source": [
    "led.plot.scatter(\"HIV/AIDS\",\"Lifeexpectancy\")"
   ]
  },
  {
   "cell_type": "code",
   "execution_count": 23,
   "metadata": {},
   "outputs": [
    {
     "data": {
      "text/plain": [
       "<matplotlib.axes._subplots.AxesSubplot at 0x21eb334e9b0>"
      ]
     },
     "execution_count": 23,
     "metadata": {},
     "output_type": "execute_result"
    },
    {
     "data": {
      "image/png": "[encoded data removed]",
      "text/plain": [
       "<Figure size 432x288 with 1 Axes>"
      ]
     },
     "metadata": {
      "needs_background": "light"
     },
     "output_type": "display_data"
    }
   ],
   "source": [
    "led.plot.scatter(\"GDP\",\"percentageexpenditure\")"
   ]
  },
  {
   "cell_type": "code",
   "execution_count": 24,
   "metadata": {},
   "outputs": [
    {
     "data": {
      "text/plain": [
       "<matplotlib.axes._subplots.AxesSubplot at 0x21eb3035780>"
      ]
     },
     "execution_count": 24,
     "metadata": {},
     "output_type": "execute_result"
    },
    {
     "data": {
      "image/png": "[encoded data removed]",
      "text/plain": [
       "<Figure size 432x288 with 1 Axes>"
      ]
     },
     "metadata": {
      "needs_background": "light"
     },
     "output_type": "display_data"
    }
   ],
   "source": [
    "led.plot.scatter(\"Incomecompositionofresources\",\"Schooling\")"
   ]
  },
  {
   "cell_type": "markdown",
   "metadata": {},
   "source": [
    "## Valutazione dei Modelli di Regressione \n",
    "### Metodo Hold-Out\n",
    "Al fine di valutare il modello generato, si prendono in considerazione i seguenti parametri:\n",
    "- Errore Quadratico Medio, utilizzato come criterio per individuare il modello migliore\n",
    "$$ \\mathrm{MSE} = \\frac{1}{m}\\sum_{i=1}^n\\left(h(\\mathbf{x}_i)-y_i\\right)^2 $$\n",
    "- Errore Relativo, che misura intuitivamente di quanto il modello si sbaglia in percentuale rispetto al valore reale\n",
    "$$ \\mathrm{errore} = \\frac{1}{m}\\sum_{i=1}^m\\left\\vert\\frac{h(\\mathbf{x}_i)-y_i}{y_i}\\right\\vert $$\n",
    "- _Coefficiente di determinazione_ $R^2$ è una misura che esprime intuitivamente quanto il modello catturi la variabilità presente nei dati ($\\bar{y}$ = media di $Y$)\n",
    "$$ R^2 = \\frac{\\sum_{i=1}^m{\\left(y_i-\\hat{y}_i\\right)^2}}{\\sum_{i=1}^m{\\left(y_i-\\bar{y}\\right)^2}} $$"
   ]
  },
  {
   "cell_type": "code",
   "execution_count": 25,
   "metadata": {},
   "outputs": [],
   "source": [
    "from sklearn.metrics import mean_squared_error\n",
    "\n",
    "def relative_error(y_true, y_pred):\n",
    "    return np.mean(np.abs((y_true - y_pred) / y_true))\n",
    "\n",
    "def print_eval(X, y, model):\n",
    "    print(\"   Mean squared error: {:.5}\".format(mean_squared_error(model.predict(X), y)))\n",
    "    print(\"       Relative error: {:.5%}\".format(relative_error(model.predict(X), y)))\n",
    "    print(\"R-squared coefficient: {:.5}\".format(model.score(X, y)))"
   ]
  },
  {
   "cell_type": "markdown",
   "metadata": {},
   "source": [
    "- Verrà diviso il daset in training set e validation set\n",
    "- Si considera come variabile dipendente y l'aspettativa di vita\n",
    "- Si considera come variabile indipendente X il solo numero medio di anni di istruzione per abitante"
   ]
  },
  {
   "cell_type": "markdown",
   "metadata": {},
   "source": [
    "## Regressione Polinomiale Univariata\n",
    "### Regolarizzazione e Regressione Ridge"
   ]
  },
  {
   "cell_type": "markdown",
   "metadata": {},
   "source": [
    "Di seguito si è addestrato un modello \"di partenza\" che stimi l'aspettativa di vita basandosi sulla sola variabile indipendente Schooling, scelta a causa della sua forte correlazione con Lifeexpectancy. Per la ricerca del modello viene utilizzato l'errore sui dati di addestramento, dato da:\n",
    "$$ E = \\mathrm{media}\\left(\\left(\\mathbf{X}\\mathbf{\\theta}-\\mathbf{y}\\right)^2\\right) $$\n",
    "- Per l'esattezza, la formula su cui si basa `LinearRegression` è\n",
    "$$ E = \\left\\Vert\\mathbf{X}\\mathbf{\\theta}-\\mathbf{y}\\right\\Vert_2^2 $$\n",
    "- Dove:\n",
    "    - $\\left\\Vert\\mathbf{x}\\right\\Vert_2$ è la _norma euclidea_ (o _norma 2_)  di un vettore $\\mathbf{x}$ di $n$ elementi\n",
    "    - y e X sono rispettivamente la variabile dipendente e quella indipendente (in forma vettoriale)\n",
    "    - ${\\theta}$ sono i parametri del modello da stimare"
   ]
  },
  {
   "cell_type": "code",
   "execution_count": 26,
   "metadata": {},
   "outputs": [],
   "source": [
    "from sklearn.preprocessing import PolynomialFeatures\n",
    "from sklearn.linear_model import LinearRegression\n",
    "lrm = LinearRegression()\n",
    "from sklearn.preprocessing import StandardScaler\n",
    "from sklearn.pipeline import Pipeline"
   ]
  },
  {
   "cell_type": "code",
   "execution_count": 27,
   "metadata": {},
   "outputs": [],
   "source": [
    "from sklearn.model_selection import train_test_split\n",
    "\n",
    "y = led[\"Lifeexpectancy\"]\n",
    "X = led[[\"Schooling\"]]\n",
    "X_train, X_val, y_train, y_val = train_test_split(X, y, test_size=1/3, random_state=42)"
   ]
  },
  {
   "cell_type": "markdown",
   "metadata": {},
   "source": [
    "- Si definisce una pipeline per l'addestramento di un modello polinomiale di grado 20, standardizzato e la cui funzione errore considerata sia quella definita sopra"
   ]
  },
  {
   "cell_type": "code",
   "execution_count": 28,
   "metadata": {},
   "outputs": [
    {
     "data": {
      "text/plain": [
       "Pipeline(memory=None,\n",
       "     steps=[('poly', PolynomialFeatures(degree=20, include_bias=False, interaction_only=False)), ('scale', StandardScaler(copy=True, with_mean=True, with_std=True)), ('linreg', LinearRegression(copy_X=True, fit_intercept=True, n_jobs=None,\n",
       "         normalize=False))])"
      ]
     },
     "execution_count": 28,
     "metadata": {},
     "output_type": "execute_result"
    }
   ],
   "source": [
    "prm = Pipeline([\n",
    "    (\"poly\",   PolynomialFeatures(degree=20, include_bias=False)),    \n",
    "    (\"scale\",  StandardScaler()),\n",
    "    (\"linreg\", LinearRegression())\n",
    "])\n",
    "prm.fit(X_train, y_train)"
   ]
  },
  {
   "cell_type": "markdown",
   "metadata": {},
   "source": [
    "### Validazione del Modello con il Metodo Hold-Out"
   ]
  },
  {
   "cell_type": "code",
   "execution_count": 29,
   "metadata": {},
   "outputs": [
    {
     "name": "stdout",
     "output_type": "stream",
     "text": [
      "   Mean squared error: 32.147\n",
      "       Relative error: 6.24152%\n",
      "R-squared coefficient: 0.57265\n"
     ]
    }
   ],
   "source": [
    "print_eval(X_train, y_train, prm)"
   ]
  },
  {
   "cell_type": "code",
   "execution_count": 30,
   "metadata": {},
   "outputs": [
    {
     "name": "stdout",
     "output_type": "stream",
     "text": [
      "   Mean squared error: 37.631\n",
      "       Relative error: 6.81651%\n",
      "R-squared coefficient: 0.53756\n"
     ]
    }
   ],
   "source": [
    "print_eval(X_val, y_val, prm)"
   ]
  },
  {
   "cell_type": "markdown",
   "metadata": {},
   "source": [
    "- Ovviamente il modello addestrato, una volta testato sul validation set risulta meno efficace, ma non di troppo\n",
    "- Tuttavia, avendo utilizzato una sola variabile, il modello non risulta abbastanza accurato"
   ]
  },
  {
   "cell_type": "code",
   "execution_count": 31,
   "metadata": {},
   "outputs": [
    {
     "data": {
      "image/png": "[encoded data removed]",
      "text/plain": [
       "<Figure size 432x288 with 1 Axes>"
      ]
     },
     "metadata": {
      "needs_background": "light"
     },
     "output_type": "display_data"
    }
   ],
   "source": [
    "def plot_model_on_data(x, y, model=None):\n",
    "    plt.scatter(x, y)\n",
    "    if model is not None:\n",
    "        xlim, ylim = plt.gca().get_xlim(), plt.gca().get_ylim()\n",
    "        line_x = np.linspace(xlim[0], xlim[1], 100)\n",
    "        line_y = model.predict(line_x[:, None])\n",
    "        plt.plot(line_x, line_y, c=\"red\", lw=3)\n",
    "        plt.xlim(xlim); plt.ylim(ylim)\n",
    "    plt.grid()\n",
    "    plt.xlabel(\"Schooling\"); plt.ylabel(\"Life Expectancy\")\n",
    "\n",
    "plot_model_on_data(X_train, y_train, prm)"
   ]
  },
  {
   "cell_type": "code",
   "execution_count": 32,
   "metadata": {},
   "outputs": [
    {
     "data": {
      "image/png": "[encoded data removed]",
      "text/plain": [
       "<Figure size 432x288 with 1 Axes>"
      ]
     },
     "metadata": {
      "needs_background": "light"
     },
     "output_type": "display_data"
    }
   ],
   "source": [
    "plot_model_on_data(X_val, y_val, prm)"
   ]
  },
  {
   "cell_type": "markdown",
   "metadata": {},
   "source": [
    "Graficando il modello rispetto ai dati si nota come questo presenti delle forti oscillazioni agli estremi, peggiorando l'accuratezza del modello stesso. Questo è dovuto al fatto che più il polinomio utilizzato per approssimare i dati è di grado elevato e tanto maggiori saranno i suoi coefficienti.\n",
    "Si procede dunque alla regolarizzazione del modello, si può notare infatti che per il momento agli estremi del dataset questo risulta particolarmente impreciso\n",
    "\n",
    "- La **_regolarizzazione_** modifica la funzione d'errore su cui si basa l'addestramento, aggiungendo una penalità per valori estremi dei parametri del modello\n",
    "- Nella regolarizzazione _L2_, la più comune, la penalità è proporzionale al quadrato della norma euclidea del vettore $\\mathbf{\\theta}$ dei parametri\n",
    "  - in questo modo parametri molto alti in valore assoluto sono molto penalizzati\n",
    "- La regressione _ridge_ consiste nella regressione lineare con applicata la regolarizzazione L2, utilizzando quindi la seguente funzione d'errore:\n",
    "$$ E = \\left\\Vert\\mathbf{X}\\mathbf{\\theta}-\\mathbf{y}\\right\\Vert_2^2 + \\alpha\\left\\Vert\\mathbf{\\theta}\\right\\Vert_2^2 $$\n",
    "- $\\alpha$ è un parametro impostabile dall'utente che controlla il \"peso\" della regolarizzazione, si è scelto pari a 1\n",
    "  - tali parametri impostabili sono a volte detti _iperparametri_ per distinguerli dai parametri addestrabili del modello"
   ]
  },
  {
   "cell_type": "code",
   "execution_count": 33,
   "metadata": {},
   "outputs": [
    {
     "data": {
      "text/plain": [
       "Pipeline(memory=None,\n",
       "     steps=[('poly', PolynomialFeatures(degree=20, include_bias=False, interaction_only=False)), ('scale', StandardScaler(copy=True, with_mean=True, with_std=True)), ('linreg', Ridge(alpha=1, copy_X=True, fit_intercept=True, max_iter=None,\n",
       "   normalize=False, random_state=None, solver='auto', tol=0.001))])"
      ]
     },
     "execution_count": 33,
     "metadata": {},
     "output_type": "execute_result"
    }
   ],
   "source": [
    "from sklearn.linear_model import Ridge\n",
    "rrm = Pipeline([\n",
    "    (\"poly\",   PolynomialFeatures(degree=20, include_bias=False)),\n",
    "    (\"scale\",  StandardScaler()),\n",
    "    (\"linreg\", Ridge(alpha=1))\n",
    "])\n",
    "rrm.fit(X_train, y_train)"
   ]
  },
  {
   "cell_type": "code",
   "execution_count": 34,
   "metadata": {},
   "outputs": [
    {
     "data": {
      "image/png": "[encoded data removed]",
      "text/plain": [
       "<Figure size 432x288 with 1 Axes>"
      ]
     },
     "metadata": {
      "needs_background": "light"
     },
     "output_type": "display_data"
    }
   ],
   "source": [
    "plot_model_on_data(X_val, y_val, rrm)"
   ]
  },
  {
   "cell_type": "code",
   "execution_count": 35,
   "metadata": {},
   "outputs": [
    {
     "name": "stdout",
     "output_type": "stream",
     "text": [
      "   Mean squared error: 33.706\n",
      "       Relative error: 6.46543%\n",
      "R-squared coefficient: 0.55192\n"
     ]
    }
   ],
   "source": [
    "print_eval(X_train, y_train, rrm)"
   ]
  },
  {
   "cell_type": "code",
   "execution_count": 36,
   "metadata": {},
   "outputs": [
    {
     "name": "stdout",
     "output_type": "stream",
     "text": [
      "   Mean squared error: 37.269\n",
      "       Relative error: 6.91873%\n",
      "R-squared coefficient: 0.54201\n"
     ]
    }
   ],
   "source": [
    "print_eval(X_val, y_val, rrm)"
   ]
  },
  {
   "cell_type": "markdown",
   "metadata": {},
   "source": [
    "- Vediamo che le misure sul training set sono leggermente peggiori di quelle senza regolarizzazione, ma quelle sul validation set sono di poco migliori. \n",
    "\n",
    "- Questo perché, nonostante la regolarizzazione, pesa il fatto di aver considerato una sola feature nell'addestramento del modello. Per migliorare l'accuratezza è necessario utilizzare modelli di regressione multivariati."
   ]
  },
  {
   "cell_type": "markdown",
   "metadata": {},
   "source": [
    "# Regressione Multivariata\n",
    "## Regressione Lineare Multivariata"
   ]
  },
  {
   "cell_type": "code",
   "execution_count": 37,
   "metadata": {},
   "outputs": [],
   "source": [
    "led1 = led1.astype(float)\n",
    "X_train, X_val, y_train, y_val = train_test_split(\n",
    "    led1.drop(\"Lifeexpectancy\", axis=1),    # X = tutto tranne Lifeexpectancy\n",
    "    led1[\"Lifeexpectancy\"],                 # y = Lifeexpectancy\n",
    "    test_size=1/3, random_state=42          # parametri divisione\n",
    ")"
   ]
  },
  {
   "cell_type": "markdown",
   "metadata": {},
   "source": [
    "- Si è addestrato e valutato in prima istanza un modello lineare semplice"
   ]
  },
  {
   "cell_type": "code",
   "execution_count": 38,
   "metadata": {},
   "outputs": [
    {
     "data": {
      "text/plain": [
       "Pipeline(memory=None,\n",
       "     steps=[('scale', StandardScaler(copy=True, with_mean=True, with_std=True)), ('linreg', LinearRegression(copy_X=True, fit_intercept=True, n_jobs=None,\n",
       "         normalize=False))])"
      ]
     },
     "execution_count": 38,
     "metadata": {},
     "output_type": "execute_result"
    }
   ],
   "source": [
    "model_rlm = Pipeline([\n",
    "    (\"scale\",  StandardScaler()),\n",
    "    (\"linreg\", LinearRegression())\n",
    "])\n",
    "model_rlm.fit(X_train, y_train)"
   ]
  },
  {
   "cell_type": "markdown",
   "metadata": {},
   "source": [
    "### Validazione del Modello con il Metodo Hold-Out"
   ]
  },
  {
   "cell_type": "code",
   "execution_count": 39,
   "metadata": {},
   "outputs": [
    {
     "name": "stdout",
     "output_type": "stream",
     "text": [
      "   Mean squared error: 13.569\n",
      "       Relative error: 4.18454%\n",
      "R-squared coefficient: 0.83325\n"
     ]
    }
   ],
   "source": [
    "print_eval(X_val, y_val, model_rlm)"
   ]
  },
  {
   "cell_type": "markdown",
   "metadata": {},
   "source": [
    "- Si nota un discreto miglioramento dei risultati rispetto a quelli del modello univariato"
   ]
  },
  {
   "cell_type": "code",
   "execution_count": 40,
   "metadata": {},
   "outputs": [
    {
     "data": {
      "text/plain": [
       "AdultMortality                  -2.030766\n",
       "infantdeaths                    10.348530\n",
       "Alcohol                         -0.362009\n",
       "percentageexpenditure            0.904536\n",
       "HepatitisB                      -0.163331\n",
       "Measles                         -0.081274\n",
       "BMI                              0.488627\n",
       "under-fivedeaths               -10.493709\n",
       "Polio                            0.171715\n",
       "Totalexpenditure                 0.191764\n",
       "Diphtheria                       0.306373\n",
       "HIV/AIDS                        -2.728142\n",
       "GDP                             -0.097354\n",
       "Population                       0.050003\n",
       "thinness1-19years               -0.208699\n",
       "thinness5-9years                -0.200723\n",
       "Incomecompositionofresources     1.549031\n",
       "Schooling                        2.868373\n",
       "dtype: float64"
      ]
     },
     "execution_count": 40,
     "metadata": {},
     "output_type": "execute_result"
    }
   ],
   "source": [
    "pd.Series(model_rlm.named_steps[\"linreg\"].coef_, X_train.columns)"
   ]
  },
  {
   "cell_type": "markdown",
   "metadata": {},
   "source": [
    "- Osservando i coefficienti del modello etichettati con i nomi delle colonne, si può dedurre il peso che ciascuna variabile ha nella predizione\n",
    "- I pesi non dipendono dalla scala delle variabili in quanto è stata applicata la stadardizzazione"
   ]
  },
  {
   "cell_type": "markdown",
   "metadata": {},
   "source": [
    "### Regressione Lasso\n",
    "Mentre con la regolarizzazione L2 si impedisce che i parametri del modello assumano valori troppo alti, si utilizzano comunque tutte le variabili coinvolte nella predizione.\n",
    "- Volendo addestrare un modello meno complesso, che ignori completamente le variabili meno rilevanti (alcuni parametri hanno valori nulli), si deve utilizzare la regolarizzazione L1, definita su un vettore $\\mathbf{x}$ di $n$ elementi come\n",
    "$$ \\left\\Vert\\mathbf{x}\\right\\Vert_1 = \\sum_{i=1}^n{\\left\\vert x_i\\right\\vert} = \\left\\vert x_1\\right\\vert+\\ldots+\\left\\vert x_n\\right\\vert $$"
   ]
  },
  {
   "cell_type": "markdown",
   "metadata": {},
   "source": [
    "- La regressione _lasso_ consiste nella regressione lineare con regolarizzazione L1, basata quindi sul minimizzare la funzione d'errore\n",
    "$$ E = \\frac{1}{2m}\\left\\Vert\\mathbf{X}\\mathbf{\\theta}-\\mathbf{y}\\right\\Vert_2^2 + \\alpha\\left\\Vert\\mathbf{\\theta}\\right\\Vert_1 $$\n",
    "- Come per la regressione ridge, il parametro $\\alpha$ controlla il peso della regolarizzazione"
   ]
  },
  {
   "cell_type": "code",
   "execution_count": 41,
   "metadata": {},
   "outputs": [
    {
     "data": {
      "text/plain": [
       "Pipeline(memory=None,\n",
       "     steps=[('scale', StandardScaler(copy=True, with_mean=True, with_std=True)), ('linreg', Lasso(alpha=2, copy_X=True, fit_intercept=True, max_iter=1000,\n",
       "   normalize=False, positive=False, precompute=False, random_state=None,\n",
       "   selection='cyclic', tol=0.0001, warm_start=False))])"
      ]
     },
     "execution_count": 41,
     "metadata": {},
     "output_type": "execute_result"
    }
   ],
   "source": [
    "from sklearn.linear_model import Lasso\n",
    "model_lasso = Pipeline([\n",
    "    (\"scale\",  StandardScaler()),\n",
    "    (\"linreg\", Lasso(alpha=2))\n",
    "])\n",
    "model_lasso.fit(X_train, y_train)"
   ]
  },
  {
   "cell_type": "markdown",
   "metadata": {},
   "source": [
    "### Validazione del Modello con il Metodo Hold-Out"
   ]
  },
  {
   "cell_type": "code",
   "execution_count": 42,
   "metadata": {},
   "outputs": [
    {
     "data": {
      "text/plain": [
       "AdultMortality                 -1.789394\n",
       "infantdeaths                   -0.000000\n",
       "Alcohol                         0.000000\n",
       "percentageexpenditure           0.000000\n",
       "HepatitisB                      0.000000\n",
       "Measles                        -0.000000\n",
       "BMI                             0.000000\n",
       "under-fivedeaths               -0.000000\n",
       "Polio                           0.000000\n",
       "Totalexpenditure                0.000000\n",
       "Diphtheria                      0.000000\n",
       "HIV/AIDS                       -1.418027\n",
       "GDP                             0.000000\n",
       "Population                     -0.000000\n",
       "thinness1-19years              -0.000000\n",
       "thinness5-9years               -0.000000\n",
       "Incomecompositionofresources    0.998012\n",
       "Schooling                       2.562976\n",
       "dtype: float64"
      ]
     },
     "execution_count": 42,
     "metadata": {},
     "output_type": "execute_result"
    }
   ],
   "source": [
    "pd.Series(model_lasso.named_steps[\"linreg\"].coef_, X_train.columns)"
   ]
  },
  {
   "cell_type": "code",
   "execution_count": 43,
   "metadata": {},
   "outputs": [
    {
     "name": "stdout",
     "output_type": "stream",
     "text": [
      "   Mean squared error: 25.042\n",
      "       Relative error: 5.75567%\n",
      "R-squared coefficient: 0.69226\n"
     ]
    }
   ],
   "source": [
    "print_eval(X_val, y_val, model_lasso)"
   ]
  },
  {
   "cell_type": "markdown",
   "metadata": {},
   "source": [
    "- L'accuratezza è nettamente peggiore rispetto ai casi precedenti\n",
    "- La regolarizzazione è stata eccessiva\n",
    "- Diminuendo il parametro `alpha`, ovvero il peso della regolarizzazione, i coefficienti non nulli aumenteranno da 4 a 12"
   ]
  },
  {
   "cell_type": "code",
   "execution_count": 44,
   "metadata": {},
   "outputs": [
    {
     "data": {
      "text/plain": [
       "AdultMortality                 -2.200096\n",
       "infantdeaths                   -0.000000\n",
       "Alcohol                        -0.237255\n",
       "percentageexpenditure           0.702532\n",
       "HepatitisB                     -0.000000\n",
       "Measles                         0.000000\n",
       "BMI                             0.497418\n",
       "under-fivedeaths               -0.096101\n",
       "Polio                           0.100510\n",
       "Totalexpenditure                0.062573\n",
       "Diphtheria                      0.321732\n",
       "HIV/AIDS                       -2.674191\n",
       "GDP                             0.000000\n",
       "Population                      0.000000\n",
       "thinness1-19years              -0.289924\n",
       "thinness5-9years               -0.000000\n",
       "Incomecompositionofresources    1.567463\n",
       "Schooling                       2.858521\n",
       "dtype: float64"
      ]
     },
     "execution_count": 44,
     "metadata": {},
     "output_type": "execute_result"
    }
   ],
   "source": [
    "model_lasso = Pipeline([\n",
    "    (\"scale\",  StandardScaler()),\n",
    "    (\"linreg\", Lasso(alpha=0.1)) # <-- cambiato da 2\n",
    "])\n",
    "model_lasso.fit(X_train, y_train)\n",
    "sort_factors = pd.Series(model_lasso.named_steps[\"linreg\"].coef_, X_train.columns)\n",
    "sort_factors"
   ]
  },
  {
   "cell_type": "markdown",
   "metadata": {},
   "source": [
    "Volendo fare delle considerazioni sui risultati, come premesso nell'introduzione, si possono suddividere le feature in 4 macro-categorie:\n",
    "- **Fattori legati all'immunizzazione**:\n",
    "    - HepatitisB\n",
    "    - Measles\n",
    "    - Polio \n",
    "    - Diphtheria\n",
    "    - HIV/AIDS \n",
    "    \n",
    "- **Fattori di mortalità**:\n",
    "    - AdultMortality \n",
    "    - infantdeaths\n",
    "    - under-fivedeaths \n",
    "\n",
    "- **Fattori economici**:\n",
    "    - percentageexpenditure\n",
    "    - Totalexpenditure\n",
    "    - GDP\n",
    "    - Incomecompositionofresources\n",
    "\n",
    "- **Fattori sociali**:\n",
    "    - Alcohol\n",
    "    - BMI\n",
    "    - Population\n",
    "    - thinness1-19years\n",
    "    - thinness5-9years\n",
    "    - Schooling "
   ]
  },
  {
   "cell_type": "code",
   "execution_count": 45,
   "metadata": {},
   "outputs": [
    {
     "data": {
      "text/plain": [
       "Schooling                       2.858521\n",
       "HIV/AIDS                        2.674191\n",
       "AdultMortality                  2.200096\n",
       "Incomecompositionofresources    1.567463\n",
       "percentageexpenditure           0.702532\n",
       "BMI                             0.497418\n",
       "Diphtheria                      0.321732\n",
       "thinness1-19years               0.289924\n",
       "Alcohol                         0.237255\n",
       "Polio                           0.100510\n",
       "under-fivedeaths                0.096101\n",
       "Totalexpenditure                0.062573\n",
       "Population                      0.000000\n",
       "GDP                             0.000000\n",
       "thinness5-9years                0.000000\n",
       "Measles                         0.000000\n",
       "HepatitisB                      0.000000\n",
       "infantdeaths                    0.000000\n",
       "dtype: float64"
      ]
     },
     "execution_count": 45,
     "metadata": {},
     "output_type": "execute_result"
    }
   ],
   "source": [
    "sort_factors = abs(pd.Series(model_lasso.named_steps[\"linreg\"].coef_, X_train.columns)) # consideriamo il modulo\n",
    "sort_factors.sort_values(ascending=False)"
   ]
  },
  {
   "cell_type": "markdown",
   "metadata": {},
   "source": [
    "- Come previsto dall'analisi di correlazione tra le variabili svolta precedentemente, si osserva che i fattori più influenti sull'aspettativa di vita di un paese sono: la scolarizzazione, l'immunità all'HIV/AIDS, la mortalità in età adulta e l'indice di svilupppo umano\n",
    "- Ai primi posti si trovano dunque feature derivanti da tutti e 4 i macro-gruppi, il che indica l'uguale imporantanza dei fattori di mortalità, sociale, economico e di immunizzazione per la stima dell'aspettativa di vita di un paese"
   ]
  },
  {
   "cell_type": "code",
   "execution_count": 46,
   "metadata": {},
   "outputs": [
    {
     "name": "stdout",
     "output_type": "stream",
     "text": [
      "   Mean squared error: 14.609\n",
      "       Relative error: 4.32518%\n",
      "R-squared coefficient: 0.82047\n"
     ]
    }
   ],
   "source": [
    "print_eval(X_val, y_val, model_lasso)"
   ]
  },
  {
   "cell_type": "markdown",
   "metadata": {},
   "source": [
    "- L'accuratezza è simile a quella ottenuta col modello di regressione ridge\n",
    "- Questo modello è però molto più semplice, in quanto si basa su 12 variabili invece di 18"
   ]
  },
  {
   "cell_type": "markdown",
   "metadata": {},
   "source": [
    "### Elastic Net\n",
    "\n",
    "- La regressione _elastic net_ combina insieme le regolarizzazioni L2 e L1 usate in ridge e lasso\n",
    "- L'errore è calcolato come:\n",
    "$$ E = \\underbrace{\\frac{1}{2m} ||X\\theta - y||_2 ^ 2}_{\\text{errore sui dati}} + \\underbrace{\\alpha \\rho ||\\theta||_1}_{\\text{L1}} + \\underbrace{\\frac{\\alpha(1-\\rho)}{2} ||\\theta||_2 ^ 2}_{\\text{L2}} $$\n",
    "- I parametri impostabili sono\n",
    "  - `alpha` ($\\alpha$) che determina il peso generale della regolarizzazione\n",
    "  - `l1_ratio` ($\\rho$, compreso tra 0 e 1) che determina il peso di L1 relativo al totale (con $\\rho=1$ si ha la regressione lasso, con $\\rho=0$ la ridge)"
   ]
  },
  {
   "cell_type": "code",
   "execution_count": 47,
   "metadata": {},
   "outputs": [
    {
     "data": {
      "text/plain": [
       "Pipeline(memory=None,\n",
       "     steps=[('scale', StandardScaler(copy=True, with_mean=True, with_std=True)), ('linreg', ElasticNet(alpha=0.1, copy_X=True, fit_intercept=True, l1_ratio=0.8,\n",
       "      max_iter=1000, normalize=False, positive=False, precompute=False,\n",
       "      random_state=None, selection='cyclic', tol=0.0001, warm_start=False))])"
      ]
     },
     "execution_count": 47,
     "metadata": {},
     "output_type": "execute_result"
    }
   ],
   "source": [
    "from sklearn.linear_model import ElasticNet\n",
    "model_elastic = Pipeline([\n",
    "    (\"scale\",  StandardScaler()),\n",
    "    (\"linreg\", ElasticNet(alpha=0.1, l1_ratio=0.8))\n",
    "])\n",
    "model_elastic.fit(X_train, y_train)"
   ]
  },
  {
   "cell_type": "markdown",
   "metadata": {},
   "source": [
    "### Validazione del Modello con il Metodo Hold-Out"
   ]
  },
  {
   "cell_type": "code",
   "execution_count": 48,
   "metadata": {},
   "outputs": [
    {
     "name": "stdout",
     "output_type": "stream",
     "text": [
      "   Mean squared error: 14.556\n",
      "       Relative error: 4.31863%\n",
      "R-squared coefficient: 0.82112\n"
     ]
    }
   ],
   "source": [
    "print_eval(X_val, y_val, model_elastic)"
   ]
  },
  {
   "cell_type": "markdown",
   "metadata": {},
   "source": [
    "- Il modello è leggermente migliorato rispetto al caso di regressione lasso, anche se naturalmente molto simile a causa del parametro l1_ratio impostato pari a 0.8\n",
    "- Si già è raggiunto un MSE pari a circa 15, senza aver ancora effettuato il tuning dei parametri"
   ]
  },
  {
   "cell_type": "markdown",
   "metadata": {},
   "source": [
    "## Regressione Polinomiale Multivariata\n",
    "In presenza di più variabili, la regressione polinomiale genera tutti i possibili termini fino al grado impostato, includendo anche *termini basati su più variabili*"
   ]
  },
  {
   "cell_type": "code",
   "execution_count": 49,
   "metadata": {},
   "outputs": [
    {
     "data": {
      "text/plain": [
       "(1099, 18)"
      ]
     },
     "execution_count": 49,
     "metadata": {},
     "output_type": "execute_result"
    }
   ],
   "source": [
    "X_train.shape # 18 variabili, il problema è impegnativo perché poi diventano 189 feature distinte"
   ]
  },
  {
   "cell_type": "code",
   "execution_count": 50,
   "metadata": {},
   "outputs": [
    {
     "name": "stdout",
     "output_type": "stream",
     "text": [
      "Wall time: 13.3 s\n"
     ]
    },
    {
     "data": {
      "text/plain": [
       "Pipeline(memory=None,\n",
       "     steps=[('poly', PolynomialFeatures(degree=4, include_bias=False, interaction_only=False)), ('scale', StandardScaler(copy=True, with_mean=True, with_std=True)), ('linreg', ElasticNet(alpha=0.5, copy_X=True, fit_intercept=True, l1_ratio=0.2,\n",
       "      max_iter=10000, normalize=False, positive=False, precompute=False,\n",
       "      random_state=None, selection='cyclic', tol=0.0001, warm_start=False))])"
      ]
     },
     "execution_count": 50,
     "metadata": {},
     "output_type": "execute_result"
    }
   ],
   "source": [
    "model_rpm = Pipeline([\n",
    "    (\"poly\",   PolynomialFeatures(degree=4, include_bias=False)),\n",
    "    (\"scale\",  StandardScaler()),\n",
    "    (\"linreg\", ElasticNet(alpha=0.5, l1_ratio=0.2, max_iter=10000))\n",
    "])\n",
    "%time model_rpm.fit(X_train, y_train)"
   ]
  },
  {
   "cell_type": "markdown",
   "metadata": {},
   "source": [
    "### Validazione del Modello con il Metodo Hold-Out"
   ]
  },
  {
   "cell_type": "code",
   "execution_count": 51,
   "metadata": {},
   "outputs": [
    {
     "name": "stdout",
     "output_type": "stream",
     "text": [
      "   Mean squared error: 10.185\n",
      "       Relative error: 3.48574%\n",
      "R-squared coefficient: 0.87484\n"
     ]
    }
   ],
   "source": [
    "print_eval(X_val, y_val, model_rpm)"
   ]
  },
  {
   "cell_type": "markdown",
   "metadata": {},
   "source": [
    "- All'aumentare delle variabili, aumenta il tempo necessario per l'addestramento del modello\n",
    "- Addestrando un modello di grado pari a 4, si ottiene ad esempio un notevole aumento dell'accuratezza del modello ma il tempo per addestrarlo aumenterà di paripasso.\n",
    "    - In questo caso è stato necessario attendere circa 12 secondi"
   ]
  },
  {
   "cell_type": "markdown",
   "metadata": {},
   "source": [
    "## Regressione con Funzioni Kernel\n",
    "Nella regressione polinomiale si eseguono prodotti tra dati con dimensioni aggiunte e rappresentate esplicitamente mentre le _funzioni kernel_ permettono di calcolare gli stessi prodotti senza calcolare esplicitamente le dimensioni aggiunte.\n",
    "- Questo permette di ottenere modelli non lineari senza l'aggiunta di variabili\n",
    "- Una delle funzioni kernel, la polinomiale è definita dalla formula\n",
    "$$ K(\\mathbf{a},\\mathbf{b}) = \\left(\\mathbf{a}\\cdot\\mathbf{b}+c\\right)^d $$\n",
    "  - $d$ e $c$ sono parametri del kernel, in particolare $d$ è il grado del polinomio"
   ]
  },
  {
   "cell_type": "markdown",
   "metadata": {},
   "source": [
    "### Regressione con Kernel Polinomiale"
   ]
  },
  {
   "cell_type": "code",
   "execution_count": 52,
   "metadata": {},
   "outputs": [
    {
     "name": "stdout",
     "output_type": "stream",
     "text": [
      "Wall time: 201 ms\n"
     ]
    },
    {
     "data": {
      "text/plain": [
       "Pipeline(memory=None,\n",
       "     steps=[('scale', StandardScaler(copy=True, with_mean=True, with_std=True)), ('regr', KernelRidge(alpha=2.5, coef0=1, degree=4, gamma=None, kernel='poly',\n",
       "      kernel_params=None))])"
      ]
     },
     "execution_count": 52,
     "metadata": {},
     "output_type": "execute_result"
    }
   ],
   "source": [
    "from sklearn.kernel_ridge import KernelRidge\n",
    "model_kernelP = Pipeline([\n",
    "    (\"scale\", StandardScaler()),\n",
    "    (\"regr\",  KernelRidge(alpha=2.5, kernel=\"poly\", degree=4))\n",
    "])\n",
    "%time model_kernelP.fit(X_train, y_train)"
   ]
  },
  {
   "cell_type": "markdown",
   "metadata": {},
   "source": [
    "### Validazione del Modello con il Metodo Hold-Out"
   ]
  },
  {
   "cell_type": "code",
   "execution_count": 53,
   "metadata": {},
   "outputs": [
    {
     "name": "stdout",
     "output_type": "stream",
     "text": [
      "   Mean squared error: 9.8994\n",
      "       Relative error: 2.95631%\n",
      "R-squared coefficient: 0.87835\n"
     ]
    }
   ],
   "source": [
    "print_eval(X_val, y_val, model_kernelP)"
   ]
  },
  {
   "cell_type": "markdown",
   "metadata": {},
   "source": [
    "- Si è ottenuto un modello con un'accuratezza più elevata rispetto ai modelli lineari e in tempi molto più brevi rispetto alla regressione polinomiale"
   ]
  },
  {
   "cell_type": "markdown",
   "metadata": {},
   "source": [
    "### Regressione con Kernel RBF (Radial Basis Function)\n",
    "- RBF ha valori tanto più elevati quanto più i valori X sono vicini a 0 (ovvero la media, usando dati standardizzati)\n",
    "- La funzione RBF ha la forma di una gaussiana, di cui si può impostare l'ampiezza col parametro `gamma`"
   ]
  },
  {
   "cell_type": "code",
   "execution_count": 54,
   "metadata": {},
   "outputs": [
    {
     "name": "stdout",
     "output_type": "stream",
     "text": [
      "Wall time: 82.8 ms\n"
     ]
    },
    {
     "data": {
      "text/plain": [
       "Pipeline(memory=None,\n",
       "     steps=[('scale', StandardScaler(copy=True, with_mean=True, with_std=True)), ('regr', KernelRidge(alpha=0.01, coef0=1, degree=3, gamma=0.001, kernel='rbf',\n",
       "      kernel_params=None))])"
      ]
     },
     "execution_count": 54,
     "metadata": {},
     "output_type": "execute_result"
    }
   ],
   "source": [
    "model_kernelRBF = Pipeline([\n",
    "    (\"scale\", StandardScaler()),\n",
    "    (\"regr\",  KernelRidge(alpha=0.01, kernel=\"rbf\", gamma=0.001))\n",
    "])\n",
    "%time model_kernelRBF.fit(X_train, y_train)"
   ]
  },
  {
   "cell_type": "markdown",
   "metadata": {},
   "source": [
    "### Validazione del Modello con il Metodo Hold-Out"
   ]
  },
  {
   "cell_type": "code",
   "execution_count": 55,
   "metadata": {},
   "outputs": [
    {
     "name": "stdout",
     "output_type": "stream",
     "text": [
      "   Mean squared error: 11.046\n",
      "       Relative error: 3.66761%\n",
      "R-squared coefficient: 0.86426\n"
     ]
    }
   ],
   "source": [
    "print_eval(X_val, y_val, model_kernelRBF)"
   ]
  },
  {
   "cell_type": "markdown",
   "metadata": {},
   "source": [
    "- Il kernel RBF ha fornito risultati peggiori di quello polinomiale\n",
    "    - Non è ancora stata eseguita la grid search"
   ]
  },
  {
   "cell_type": "markdown",
   "metadata": {},
   "source": [
    "## Valutazione dei Modelli di Regressione\n",
    "### k-Fold Cross Validation\n",
    "Si utilizza ora, il metodo _k-fold_ per valutare l'accuratezza di un modello\n",
    "  - i dati sono divisi causalmente in k gruppi (_fold_)\n",
    "  - ciascun gruppo è validato su un modello addestrato su tutti gli altri gruppi\n",
    "  - i risultati dei singoli test vengono uniti\n",
    "  \n",
    "Ridefiniamo X e y, variabili indipendenti e dipendente"
   ]
  },
  {
   "cell_type": "code",
   "execution_count": 56,
   "metadata": {},
   "outputs": [],
   "source": [
    "X = led1.drop([\"Lifeexpectancy\"], axis=1)\n",
    "y = led1[\"Lifeexpectancy\"]"
   ]
  },
  {
   "cell_type": "markdown",
   "metadata": {},
   "source": [
    "- Si genera un oggetto che genera 5 fold con dati mescolati casualmente"
   ]
  },
  {
   "cell_type": "code",
   "execution_count": 57,
   "metadata": {},
   "outputs": [],
   "source": [
    "from sklearn.model_selection import KFold\n",
    "kf = KFold(5, shuffle=True, random_state=42)\n",
    "from sklearn.model_selection import cross_val_score"
   ]
  },
  {
   "cell_type": "markdown",
   "metadata": {},
   "source": [
    "- Tale valutazione è più affidabile di quella col metodo hold-out, ottenuta da un singolo modello\n",
    "- Ci permette inoltre di valutare la \"robustezza\" del modello, ovvero quanto l'accuratezza sia stabile addestrandosi su set di dati diversi\n",
    "- Si otterrà il risultato di `score`, ovvero il coefficiente R², calcolato su ciascun fold"
   ]
  },
  {
   "cell_type": "markdown",
   "metadata": {},
   "source": [
    "#### Regressione Lineare Multivariata"
   ]
  },
  {
   "cell_type": "code",
   "execution_count": 58,
   "metadata": {},
   "outputs": [
    {
     "data": {
      "text/plain": [
       "(0.8252886707123791, 0.01949039456050135)"
      ]
     },
     "execution_count": 58,
     "metadata": {},
     "output_type": "execute_result"
    }
   ],
   "source": [
    "scores_rlm = cross_val_score(model_rlm, X, y, cv=kf)\n",
    "scores_rlm.mean(), scores_rlm.std()"
   ]
  },
  {
   "cell_type": "markdown",
   "metadata": {},
   "source": [
    "- Il punteggio medio dei modelli è 0.83 con una deviazione standard di 0.019"
   ]
  },
  {
   "cell_type": "markdown",
   "metadata": {},
   "source": [
    "#### Regressione Lasso"
   ]
  },
  {
   "cell_type": "code",
   "execution_count": 59,
   "metadata": {},
   "outputs": [
    {
     "data": {
      "text/plain": [
       "(0.816200872757183, 0.014989457647879992)"
      ]
     },
     "execution_count": 59,
     "metadata": {},
     "output_type": "execute_result"
    }
   ],
   "source": [
    "scores_lasso = cross_val_score(model_lasso, X, y, cv=kf)\n",
    "scores_lasso.mean(), scores_lasso.std()"
   ]
  },
  {
   "cell_type": "markdown",
   "metadata": {},
   "source": [
    "- Il punteggio medio dei modelli è 0.82 con una deviazione standard di 0.015"
   ]
  },
  {
   "cell_type": "markdown",
   "metadata": {},
   "source": [
    "#### Regressione Elastic Net"
   ]
  },
  {
   "cell_type": "code",
   "execution_count": 60,
   "metadata": {},
   "outputs": [
    {
     "data": {
      "text/plain": [
       "(0.816697405009208, 0.014970427601119331)"
      ]
     },
     "execution_count": 60,
     "metadata": {},
     "output_type": "execute_result"
    }
   ],
   "source": [
    "scores_elastic = cross_val_score(model_elastic, X, y, cv=kf)\n",
    "scores_elastic.mean(), scores_elastic.std()"
   ]
  },
  {
   "cell_type": "markdown",
   "metadata": {},
   "source": [
    "- Il punteggio medio dei modelli è 0.82 con una deviazione standard di 0.015"
   ]
  },
  {
   "cell_type": "markdown",
   "metadata": {},
   "source": [
    "#### Regressione Polinomiale Multivariata"
   ]
  },
  {
   "cell_type": "code",
   "execution_count": 61,
   "metadata": {},
   "outputs": [
    {
     "data": {
      "text/plain": [
       "(0.8713864699431355, 0.014034402151823347)"
      ]
     },
     "execution_count": 61,
     "metadata": {},
     "output_type": "execute_result"
    }
   ],
   "source": [
    "scores_rpm = cross_val_score(model_rpm, X, y, cv=kf)\n",
    "scores_rpm.mean(), scores_rpm.std()"
   ]
  },
  {
   "cell_type": "markdown",
   "metadata": {},
   "source": [
    "- Il punteggio medio dei modelli è 0.87 con una deviazione standard di 0.014"
   ]
  },
  {
   "cell_type": "markdown",
   "metadata": {},
   "source": [
    "#### Regressione Kernel Polinomiale"
   ]
  },
  {
   "cell_type": "code",
   "execution_count": 62,
   "metadata": {},
   "outputs": [
    {
     "data": {
      "text/plain": [
       "(0.8561557303211279, 0.06826275978245192)"
      ]
     },
     "execution_count": 62,
     "metadata": {},
     "output_type": "execute_result"
    }
   ],
   "source": [
    "scores_kernelP = cross_val_score(model_kernelP, X, y, cv=kf)\n",
    "scores_kernelP.mean(), scores_kernelP.std()"
   ]
  },
  {
   "cell_type": "markdown",
   "metadata": {},
   "source": [
    "- Il punteggio medio dei modelli è 0.90 con una deviazione standard di 0.015"
   ]
  },
  {
   "cell_type": "markdown",
   "metadata": {},
   "source": [
    "#### Regressione Kernel RBF"
   ]
  },
  {
   "cell_type": "code",
   "execution_count": 63,
   "metadata": {},
   "outputs": [
    {
     "data": {
      "text/plain": [
       "(0.8690010724323305, 0.013607130292945505)"
      ]
     },
     "execution_count": 63,
     "metadata": {},
     "output_type": "execute_result"
    }
   ],
   "source": [
    "scores_kernelRBF = cross_val_score(model_kernelRBF, X, y, cv=kf)\n",
    "scores_kernelRBF.mean(), scores_kernelRBF.std()"
   ]
  },
  {
   "cell_type": "markdown",
   "metadata": {},
   "source": [
    "- Il punteggio medio dei modelli è 0.92 con una deviazione standard di 0.012\n",
    "- La k-fold cross validation conferma i risultati ottenuti tramite il metodo hold-out"
   ]
  },
  {
   "cell_type": "markdown",
   "metadata": {},
   "source": [
    "## Grid Search\n",
    "Dato che l'accuratezza del modello può dipendere fortemente dai valori degli iperparametri, si procede ora alla ricerca dei loro valori migliori tramite la Grid Search\n",
    "\n",
    "- Si intende dunque individuare i valori degli iperparametri che massimizzino l'accuratezza del modello\n",
    "- Sono state testate una serie di griglie di parametri per ciascun modello\n",
    "    - Si riportano di seguito solamente quelle che hanno fornito risultati migliori (ultima iterazione)"
   ]
  },
  {
   "cell_type": "code",
   "execution_count": 64,
   "metadata": {},
   "outputs": [],
   "source": [
    "from sklearn.model_selection import GridSearchCV\n",
    "def grid_test(model, grid):\n",
    "    gs = GridSearchCV(model, param_grid=grid, cv=5, iid=False)\n",
    "    gs.fit(X_train, y_train)\n",
    "    print(gs.best_params_)\n",
    "    print_eval(X_val, y_val, gs)"
   ]
  },
  {
   "cell_type": "markdown",
   "metadata": {},
   "source": [
    "#### Regressione Elastic Net"
   ]
  },
  {
   "cell_type": "code",
   "execution_count": 65,
   "metadata": {
    "scrolled": true
   },
   "outputs": [
    {
     "name": "stdout",
     "output_type": "stream",
     "text": [
      "{'alpha': 0.08, 'l1_ratio': 1}\n",
      "   Mean squared error: 14.333\n",
      "       Relative error: 4.30530%\n",
      "R-squared coefficient: 0.82386\n"
     ]
    }
   ],
   "source": [
    "model_elastic_gs = ElasticNet(max_iter=10000)\n",
    "grid_elastic_gs = {\n",
    "    \"alpha\":    [0.08, 0.1, 0.12, 0.5],\n",
    "    \"l1_ratio\": [0.8, 0.6, 1, 0.5, 2],\n",
    "}\n",
    "grid_test(model_elastic_gs, grid_elastic_gs)"
   ]
  },
  {
   "cell_type": "markdown",
   "metadata": {},
   "source": [
    "- I parametri migliori per il modello Elastic Net risultano essere:\n",
    "    - $\\alpha$ = 0.08\n",
    "    - `l1_ratio` = 0.1\n",
    "- L'accuratezza non è cambiata troppo rispetto al primo modello implementato"
   ]
  },
  {
   "cell_type": "markdown",
   "metadata": {},
   "source": [
    "#### Regressione Kernel Polinomiale"
   ]
  },
  {
   "cell_type": "code",
   "execution_count": 66,
   "metadata": {},
   "outputs": [
    {
     "name": "stdout",
     "output_type": "stream",
     "text": [
      "{'regr__alpha': 0.5, 'regr__degree': 2}\n",
      "   Mean squared error: 7.6781\n",
      "       Relative error: 2.93443%\n",
      "R-squared coefficient: 0.90564\n"
     ]
    }
   ],
   "source": [
    "model_kernelP_gs = Pipeline([\n",
    "    (\"scale\", StandardScaler()),\n",
    "    (\"regr\",  KernelRidge(kernel=\"poly\"))\n",
    "])\n",
    "grid_kernelP_gs = {\n",
    "    \"regr__degree\":   [2, 3, 4, 5],\n",
    "    \"regr__alpha\":    [0.1, 1, 0.5, 1.5, 2, 2.5,],\n",
    "}\n",
    "grid_test(model_kernelP_gs, grid_kernelP_gs)"
   ]
  },
  {
   "cell_type": "markdown",
   "metadata": {},
   "source": [
    "- I parametri migliori per il modello Kernel Polinomiale risultano essere:\n",
    "    - $\\alpha$ = 0.5\n",
    "    - `grado` = 2"
   ]
  },
  {
   "cell_type": "markdown",
   "metadata": {},
   "source": [
    "#### Regressione Kernel RBF"
   ]
  },
  {
   "cell_type": "code",
   "execution_count": 67,
   "metadata": {},
   "outputs": [
    {
     "name": "stdout",
     "output_type": "stream",
     "text": [
      "{'regr__alpha': 0.008, 'regr__gamma': 0.005}\n",
      "   Mean squared error: 7.864\n",
      "       Relative error: 2.87345%\n",
      "R-squared coefficient: 0.90336\n"
     ]
    }
   ],
   "source": [
    "model_kernelRBF_gs = Pipeline([\n",
    "    (\"scale\", StandardScaler()),\n",
    "    (\"regr\",  KernelRidge(kernel=\"rbf\"))\n",
    "])\n",
    "grid_kernelRBF_gs = {\n",
    "    \"regr__alpha\":    [0.008, 0.01, 0.012],\n",
    "    \"regr__gamma\":    [0.0002, 0.005, 0.0012, 0.0014],\n",
    "}\n",
    "grid_test(model_kernelRBF_gs, grid_kernelRBF_gs)"
   ]
  },
  {
   "cell_type": "markdown",
   "metadata": {},
   "source": [
    "- I parametri migliori per il modello Kernel RBF risultano essere:\n",
    "    - $\\alpha$ = 0.008\n",
    "    - `gamma` = 0.005"
   ]
  },
  {
   "cell_type": "markdown",
   "metadata": {},
   "source": [
    "- Dopo la Grid Search, il modello risulta essere molto simile al Kernel Polinomiale in termini di accuratezza"
   ]
  },
  {
   "cell_type": "markdown",
   "metadata": {},
   "source": [
    "### Grid Search su Modelli di Regressione basati su macro-categorie\n",
    "Volendo fare ulteriori considerazioni sul contributo delle feature, come premesso nell'introduzionegià accennato nel paragrafo dedicato alla Regressione Lasso, si possono considerare 4 macro-categorie:\n",
    "- Fattori legati all'immunizzazione\n",
    "- Fattori di mortalità\n",
    "- Fattori economici\n",
    "- Fattori sociali \n",
    "\n",
    "Si valuta ora il loro contributo nella stima dell'aspettativa di vita eseguendo l'analisi sui singoli macro-gruppi di feature selezionate tramite **Kernel RBF**. Infatti, anche se il Kernel Polinomiale ha fornito risultati migliori con la Grid Search, il Kernel RBF si è adattato meglio a questo caso."
   ]
  },
  {
   "cell_type": "code",
   "execution_count": 68,
   "metadata": {},
   "outputs": [],
   "source": [
    "F_imm = led1[[\"HepatitisB\",\"Measles\",\"Polio\",\"Diphtheria\",\"HIV/AIDS\"]]\n",
    "F_mort = led1[[\"AdultMortality\", \"infantdeaths\", \"under-fivedeaths\"]]\n",
    "F_econ = led1[[\"percentageexpenditure\",\"Totalexpenditure\",\"GDP\",\"Incomecompositionofresources\"]]\n",
    "F_soc = led1[[\"Alcohol\",\"BMI\",\"Population\",\"thinness1-19years\",\"thinness5-9years\",\"Schooling\"]]"
   ]
  },
  {
   "cell_type": "code",
   "execution_count": 69,
   "metadata": {},
   "outputs": [],
   "source": [
    "def grid_test_macro(model, grid, F):\n",
    "    X_train, X_val, y_train, y_val = train_test_split(\n",
    "    F,    \n",
    "    led1[\"Lifeexpectancy\"],                \n",
    "    test_size=1/3, random_state=42          \n",
    "    )\n",
    "    \n",
    "    gs = GridSearchCV(model, param_grid=grid, cv=5, iid=False)\n",
    "    gs.fit(X_train, y_train)\n",
    "    print(gs.best_params_)\n",
    "    print_eval(X_val, y_val, gs)"
   ]
  },
  {
   "cell_type": "markdown",
   "metadata": {},
   "source": [
    "#### Fattori legati all'immunizzazione - Kernel RBF"
   ]
  },
  {
   "cell_type": "code",
   "execution_count": 70,
   "metadata": {},
   "outputs": [
    {
     "name": "stdout",
     "output_type": "stream",
     "text": [
      "{'regr__alpha': 0.008, 'regr__gamma': 0.005}\n",
      "   Mean squared error: 31.867\n",
      "       Relative error: 6.42006%\n",
      "R-squared coefficient: 0.60839\n"
     ]
    }
   ],
   "source": [
    "grid_test_macro(model_kernelRBF_gs, grid_kernelRBF_gs, F_imm)"
   ]
  },
  {
   "cell_type": "markdown",
   "metadata": {},
   "source": [
    "#### Fattori di mortalità - Kernel RBF"
   ]
  },
  {
   "cell_type": "code",
   "execution_count": 71,
   "metadata": {},
   "outputs": [
    {
     "name": "stdout",
     "output_type": "stream",
     "text": [
      "{'regr__alpha': 0.008, 'regr__gamma': 0.005}\n",
      "   Mean squared error: 25.988\n",
      "       Relative error: 5.41002%\n",
      "R-squared coefficient: 0.68064\n"
     ]
    }
   ],
   "source": [
    "grid_test_macro(model_kernelRBF_gs, grid_kernelRBF_gs, F_mort)"
   ]
  },
  {
   "cell_type": "markdown",
   "metadata": {},
   "source": [
    "#### Fattori economici - Kernel RBF"
   ]
  },
  {
   "cell_type": "code",
   "execution_count": 72,
   "metadata": {},
   "outputs": [
    {
     "name": "stdout",
     "output_type": "stream",
     "text": [
      "{'regr__alpha': 0.008, 'regr__gamma': 0.005}\n",
      "   Mean squared error: 22.729\n",
      "       Relative error: 5.40250%\n",
      "R-squared coefficient: 0.72068\n"
     ]
    }
   ],
   "source": [
    "grid_test_macro(model_kernelRBF_gs, grid_kernelRBF_gs, F_econ)"
   ]
  },
  {
   "cell_type": "markdown",
   "metadata": {},
   "source": [
    "#### Fattori sociali - Kernel RBF"
   ]
  },
  {
   "cell_type": "code",
   "execution_count": 73,
   "metadata": {},
   "outputs": [
    {
     "name": "stdout",
     "output_type": "stream",
     "text": [
      "{'regr__alpha': 0.008, 'regr__gamma': 0.005}\n",
      "   Mean squared error: 26.812\n",
      "       Relative error: 5.75535%\n",
      "R-squared coefficient: 0.67051\n"
     ]
    }
   ],
   "source": [
    "grid_test_macro(model_kernelRBF_gs, grid_kernelRBF_gs, F_soc)"
   ]
  },
  {
   "cell_type": "markdown",
   "metadata": {},
   "source": [
    "Da questa analisi si deduce come i fattori economici e di mortalità risultino i più rilevanti per la stima dell'aspettativa di vita. In questi due gruppi infatti, ci sono alcune tra le feature con la correlazione più alta rispetto alla Lifeexpectancy, come:\n",
    "- AdultMortality per il macro-gruppo relativo ai fattori di mortalità\n",
    "- Incomecompositionofresources per il macro-gruppo facente riferimento ai fattori economici "
   ]
  },
  {
   "cell_type": "markdown",
   "metadata": {},
   "source": [
    "\n",
    "## Conclusione\n",
    "Come mostrato nella tabella riassuntiva, il modello migliore ottenuto dalle analisi svolte finora risulta essere il **Kernel Polinomiale**, derivante dall'ultima Grid Search eseguita, i cui parametri di ricerca sono stati affinati di volta in volta. Questo si differenzia solo leggermente dal Kernel RBF, di solito di più comune utilizzo\n",
    "- Si riporta una tabella riassuntiva dei risultati ottenuti dalle validazioni sui modelli più rilevati testati"
   ]
  },
  {
   "cell_type": "code",
   "execution_count": 74,
   "metadata": {},
   "outputs": [
    {
     "data": {
      "text/html": [
       "<div>\n",
       "<style scoped>\n",
       "    .dataframe tbody tr th:only-of-type {\n",
       "        vertical-align: middle;\n",
       "    }\n",
       "\n",
       "    .dataframe tbody tr th {\n",
       "        vertical-align: top;\n",
       "    }\n",
       "\n",
       "    .dataframe thead tr th {\n",
       "        text-align: left;\n",
       "    }\n",
       "</style>\n",
       "<table border=\"1\" class=\"dataframe\">\n",
       "  <thead>\n",
       "    <tr>\n",
       "      <th></th>\n",
       "      <th colspan=\"3\" halign=\"left\">VALIDAZIONE HOLD-OUT</th>\n",
       "      <th colspan=\"2\" halign=\"left\">VALIDAZIONE K-FOLD</th>\n",
       "    </tr>\n",
       "    <tr>\n",
       "      <th></th>\n",
       "      <th>MSE</th>\n",
       "      <th>RelEr</th>\n",
       "      <th>R-squared</th>\n",
       "      <th>MediaR</th>\n",
       "      <th>DevR</th>\n",
       "    </tr>\n",
       "  </thead>\n",
       "  <tbody>\n",
       "    <tr>\n",
       "      <th>RLM</th>\n",
       "      <td>13.568827</td>\n",
       "      <td>0.041845</td>\n",
       "      <td>0.833255</td>\n",
       "      <td>0.825289</td>\n",
       "      <td>0.019490</td>\n",
       "    </tr>\n",
       "    <tr>\n",
       "      <th>Lasso</th>\n",
       "      <td>14.608826</td>\n",
       "      <td>0.043252</td>\n",
       "      <td>0.820474</td>\n",
       "      <td>0.816201</td>\n",
       "      <td>0.014989</td>\n",
       "    </tr>\n",
       "    <tr>\n",
       "      <th>Elastic</th>\n",
       "      <td>14.556482</td>\n",
       "      <td>0.043186</td>\n",
       "      <td>0.821118</td>\n",
       "      <td>0.816697</td>\n",
       "      <td>0.014970</td>\n",
       "    </tr>\n",
       "    <tr>\n",
       "      <th>RPM</th>\n",
       "      <td>10.185004</td>\n",
       "      <td>0.034857</td>\n",
       "      <td>0.874838</td>\n",
       "      <td>0.871386</td>\n",
       "      <td>0.014034</td>\n",
       "    </tr>\n",
       "    <tr>\n",
       "      <th>KerP</th>\n",
       "      <td>9.899366</td>\n",
       "      <td>0.029563</td>\n",
       "      <td>0.878348</td>\n",
       "      <td>0.856156</td>\n",
       "      <td>0.068263</td>\n",
       "    </tr>\n",
       "    <tr>\n",
       "      <th>KerRBF</th>\n",
       "      <td>11.046062</td>\n",
       "      <td>0.036676</td>\n",
       "      <td>0.864257</td>\n",
       "      <td>0.869001</td>\n",
       "      <td>0.013607</td>\n",
       "    </tr>\n",
       "    <tr>\n",
       "      <th>Elastic_gs</th>\n",
       "      <td>14.333410</td>\n",
       "      <td>0.043053</td>\n",
       "      <td>0.823859</td>\n",
       "      <td>NaN</td>\n",
       "      <td>NaN</td>\n",
       "    </tr>\n",
       "    <tr>\n",
       "      <th>kernelP_gs</th>\n",
       "      <td>7.678124</td>\n",
       "      <td>0.029344</td>\n",
       "      <td>0.905645</td>\n",
       "      <td>NaN</td>\n",
       "      <td>NaN</td>\n",
       "    </tr>\n",
       "    <tr>\n",
       "      <th>kernel_gs</th>\n",
       "      <td>7.864046</td>\n",
       "      <td>0.028734</td>\n",
       "      <td>0.903360</td>\n",
       "      <td>NaN</td>\n",
       "      <td>NaN</td>\n",
       "    </tr>\n",
       "  </tbody>\n",
       "</table>\n",
       "</div>"
      ],
      "text/plain": [
       "           VALIDAZIONE HOLD-OUT                     VALIDAZIONE K-FOLD  \\\n",
       "                            MSE     RelEr R-squared             MediaR   \n",
       "RLM                   13.568827  0.041845  0.833255           0.825289   \n",
       "Lasso                 14.608826  0.043252  0.820474           0.816201   \n",
       "Elastic               14.556482  0.043186  0.821118           0.816697   \n",
       "RPM                   10.185004  0.034857  0.874838           0.871386   \n",
       "KerP                   9.899366  0.029563  0.878348           0.856156   \n",
       "KerRBF                11.046062  0.036676  0.864257           0.869001   \n",
       "Elastic_gs            14.333410  0.043053  0.823859                NaN   \n",
       "kernelP_gs             7.678124  0.029344  0.905645                NaN   \n",
       "kernel_gs              7.864046  0.028734  0.903360                NaN   \n",
       "\n",
       "                      \n",
       "                DevR  \n",
       "RLM         0.019490  \n",
       "Lasso       0.014989  \n",
       "Elastic     0.014970  \n",
       "RPM         0.014034  \n",
       "KerP        0.068263  \n",
       "KerRBF      0.013607  \n",
       "Elastic_gs       NaN  \n",
       "kernelP_gs       NaN  \n",
       "kernel_gs        NaN  "
      ]
     },
     "execution_count": 74,
     "metadata": {},
     "output_type": "execute_result"
    }
   ],
   "source": [
    "vett = [model_rlm, model_lasso, model_elastic, model_rpm, model_kernelP, model_kernelRBF, model_elastic_gs, model_kernelP_gs, model_kernelRBF_gs]\n",
    "score = [scores_rlm, scores_lasso, scores_elastic, scores_rpm, scores_kernelP, scores_kernelRBF, grid_elastic_gs, grid_kernelP_gs, grid_kernelRBF_gs]\n",
    "m1 = np.empty((9,5))\n",
    "m1[:] = np.nan\n",
    "for i in range(0, 6):\n",
    "    m1[i][0] = mean_squared_error(vett[i].predict(X_val), y_val)\n",
    "    m1[i][1] = relative_error(vett[i].predict(X_val), y_val)\n",
    "    m1[i][2] = vett[i].score(X_val, y_val) \n",
    "    m1[i][3] = score[i].mean()\n",
    "    m1[i][4] = score[i].std()\n",
    "\n",
    "for i in range(6,9):\n",
    "    m1[i][0] = mean_squared_error(GridSearchCV(vett[i], param_grid=score[i],cv=5, iid=False).fit(X_train, y_train).predict(X_val), y_val)\n",
    "    m1[i][1] = relative_error(GridSearchCV(vett[i], param_grid=score[i],cv=5, iid=False).fit(X_train, y_train).predict(X_val), y_val)\n",
    "    m1[i][2] = GridSearchCV(vett[i], param_grid=score[i], cv=5, iid=False).fit(X_train, y_train).score(X_val, y_val)\n",
    "    \n",
    "    \n",
    "modelli =  [\"RLM\", \"Lasso\", \"Elastic\", \"RPM\", \"KerP\", \"KerRBF\", \"Elastic_gs\", \"kernelP_gs\", \"kernel_gs\"]\n",
    "\n",
    "risultati = [[\"VALIDAZIONE HOLD-OUT\", \"VALIDAZIONE HOLD-OUT\",\"VALIDAZIONE HOLD-OUT\", \"VALIDAZIONE K-FOLD\", \"VALIDAZIONE K-FOLD\"],\n",
    "              [\"MSE\", \"RelEr\", \"R-squared\", \"MediaR\", \"DevR\"]]\n",
    "\n",
    "tuples = list(zip(*risultati))\n",
    "pip = pd.MultiIndex.from_tuples(tuples)\n",
    "\n",
    "df1 = pd.DataFrame(m1, index = modelli , columns = pip)\n",
    "df1 "
   ]
  },
  {
   "cell_type": "markdown",
   "metadata": {},
   "source": [
    "Nel seguente istogramma sono mostrate, in ordine decrescente, le dirette e inverse proporzionalità delle singole feature con l'Aspettativa di Vita"
   ]
  },
  {
   "cell_type": "code",
   "execution_count": 75,
   "metadata": {},
   "outputs": [
    {
     "data": {
      "text/plain": [
       "<matplotlib.axes._subplots.AxesSubplot at 0x21eb32f9940>"
      ]
     },
     "execution_count": 75,
     "metadata": {},
     "output_type": "execute_result"
    },
    {
     "data": {
      "image/png": "[encoded data removed]",
      "text/plain": [
       "<Figure size 432x288 with 1 Axes>"
      ]
     },
     "metadata": {
      "needs_background": "light"
     },
     "output_type": "display_data"
    }
   ],
   "source": [
    "df[\"Lifeexpectancy\"][1:].sort_values(ascending=False).plot.bar()"
   ]
  },
  {
   "cell_type": "markdown",
   "metadata": {},
   "source": [
    "- Si vuole ora individure un modello, tramite Regressione Kernel Polinomiale, che prenda in considerazione le sole feature considerate più rilevanti\n",
    "    - Le restanti verranno considerate rumore e tralasciate\n",
    "- Si definisce il modello con i parametri trovati tramite la Grid Search\n",
    "- Vengono selezionate solo le feature con un peso \"maggiore\" sulla Life expectancy"
   ]
  },
  {
   "cell_type": "code",
   "execution_count": 76,
   "metadata": {},
   "outputs": [],
   "source": [
    "model_kernelP = Pipeline([\n",
    "    (\"scale\", StandardScaler()),\n",
    "    (\"regr\",  KernelRidge(alpha=0.5, kernel=\"poly\", degree=2))\n",
    "])"
   ]
  },
  {
   "cell_type": "code",
   "execution_count": 77,
   "metadata": {
    "scrolled": false
   },
   "outputs": [
    {
     "name": "stdout",
     "output_type": "stream",
     "text": [
      "Ecco le 10 feature più correlate con l'Aspettativa di Vita:\n",
      "Schooling                       0.727630\n",
      "Incomecompositionofresources    0.721083\n",
      "BMI                             0.542042\n",
      "GDP                             0.441322\n",
      "percentageexpenditure           0.409631\n",
      "Alcohol                         0.402718\n",
      "thinness5-9years               -0.457508\n",
      "thinness1-19years              -0.457838\n",
      "HIV/AIDS                       -0.592236\n",
      "AdultMortality                 -0.702523\n",
      "Name: Lifeexpectancy, dtype: float64\n"
     ]
    },
    {
     "data": {
      "text/html": [
       "<div>\n",
       "<style scoped>\n",
       "    .dataframe tbody tr th:only-of-type {\n",
       "        vertical-align: middle;\n",
       "    }\n",
       "\n",
       "    .dataframe tbody tr th {\n",
       "        vertical-align: top;\n",
       "    }\n",
       "\n",
       "    .dataframe thead th {\n",
       "        text-align: right;\n",
       "    }\n",
       "</style>\n",
       "<table border=\"1\" class=\"dataframe\">\n",
       "  <thead>\n",
       "    <tr style=\"text-align: right;\">\n",
       "      <th></th>\n",
       "      <th>AdultMortality</th>\n",
       "      <th>Alcohol</th>\n",
       "      <th>percentageexpenditure</th>\n",
       "      <th>BMI</th>\n",
       "      <th>HIV/AIDS</th>\n",
       "      <th>GDP</th>\n",
       "      <th>thinness1-19years</th>\n",
       "      <th>thinness5-9years</th>\n",
       "      <th>Incomecompositionofresources</th>\n",
       "      <th>Schooling</th>\n",
       "    </tr>\n",
       "  </thead>\n",
       "  <tbody>\n",
       "    <tr>\n",
       "      <th>0</th>\n",
       "      <td>263.0</td>\n",
       "      <td>0.01</td>\n",
       "      <td>71.279624</td>\n",
       "      <td>19.1</td>\n",
       "      <td>0.1</td>\n",
       "      <td>584.259210</td>\n",
       "      <td>17.2</td>\n",
       "      <td>17.3</td>\n",
       "      <td>0.479</td>\n",
       "      <td>10.1</td>\n",
       "    </tr>\n",
       "    <tr>\n",
       "      <th>1</th>\n",
       "      <td>271.0</td>\n",
       "      <td>0.01</td>\n",
       "      <td>73.523582</td>\n",
       "      <td>18.6</td>\n",
       "      <td>0.1</td>\n",
       "      <td>612.696514</td>\n",
       "      <td>17.5</td>\n",
       "      <td>17.5</td>\n",
       "      <td>0.476</td>\n",
       "      <td>10.0</td>\n",
       "    </tr>\n",
       "    <tr>\n",
       "      <th>2</th>\n",
       "      <td>268.0</td>\n",
       "      <td>0.01</td>\n",
       "      <td>73.219243</td>\n",
       "      <td>18.1</td>\n",
       "      <td>0.1</td>\n",
       "      <td>631.744976</td>\n",
       "      <td>17.7</td>\n",
       "      <td>17.7</td>\n",
       "      <td>0.470</td>\n",
       "      <td>9.9</td>\n",
       "    </tr>\n",
       "    <tr>\n",
       "      <th>3</th>\n",
       "      <td>272.0</td>\n",
       "      <td>0.01</td>\n",
       "      <td>78.184215</td>\n",
       "      <td>17.6</td>\n",
       "      <td>0.1</td>\n",
       "      <td>669.959000</td>\n",
       "      <td>17.9</td>\n",
       "      <td>18.0</td>\n",
       "      <td>0.463</td>\n",
       "      <td>9.8</td>\n",
       "    </tr>\n",
       "  </tbody>\n",
       "</table>\n",
       "</div>"
      ],
      "text/plain": [
       "   AdultMortality  Alcohol  percentageexpenditure   BMI  HIV/AIDS         GDP  \\\n",
       "0           263.0     0.01              71.279624  19.1       0.1  584.259210   \n",
       "1           271.0     0.01              73.523582  18.6       0.1  612.696514   \n",
       "2           268.0     0.01              73.219243  18.1       0.1  631.744976   \n",
       "3           272.0     0.01              78.184215  17.6       0.1  669.959000   \n",
       "\n",
       "   thinness1-19years  thinness5-9years  Incomecompositionofresources  \\\n",
       "0               17.2              17.3                         0.479   \n",
       "1               17.5              17.5                         0.476   \n",
       "2               17.7              17.7                         0.470   \n",
       "3               17.9              18.0                         0.463   \n",
       "\n",
       "   Schooling  \n",
       "0       10.1  \n",
       "1       10.0  \n",
       "2        9.9  \n",
       "3        9.8  "
      ]
     },
     "execution_count": 77,
     "metadata": {},
     "output_type": "execute_result"
    }
   ],
   "source": [
    "golden_features = df_num_corr[abs(df_num_corr) > 0.40].sort_values(ascending=False)\n",
    "print(\"Ecco le {} feature più correlate con l'Aspettativa di Vita:\\n{}\".format(len(golden_features), golden_features))\n",
    "f_selected = abs(df_num_corr) > 0.40\n",
    "led_selected0 = led[f_selected.index[f_selected]]\n",
    "led_selected0.head(4)"
   ]
  },
  {
   "cell_type": "code",
   "execution_count": 78,
   "metadata": {},
   "outputs": [],
   "source": [
    "X_train_sel, X_val_sel, y_train_sel, y_val_sel = train_test_split(\n",
    "    led_selected0,\n",
    "    led1[\"Lifeexpectancy\"],  \n",
    "    test_size=1/3, random_state=42 \n",
    ")"
   ]
  },
  {
   "cell_type": "code",
   "execution_count": 79,
   "metadata": {},
   "outputs": [
    {
     "name": "stdout",
     "output_type": "stream",
     "text": [
      "   Mean squared error: 7.6472\n",
      "       Relative error: 2.95905%\n",
      "R-squared coefficient: 0.90603\n"
     ]
    }
   ],
   "source": [
    "model_kernelP.fit(X_train_sel, y_train_sel)\n",
    "print_eval(X_val_sel, y_val_sel, model_kernelP)"
   ]
  },
  {
   "cell_type": "markdown",
   "metadata": {},
   "source": [
    "- Si ricorda che i valori ottenuti utilizzando tutte le feature a disposizione, con lo stesso tipo di regressione e gli stessi parametri (trovati tramite la Grid Search) erano:\n",
    "    - Mean squared error: 7.678124\t\n",
    "    - Relative error: 2.9344%\t\n",
    "    - R-squared coefficient: 0.905645\n",
    "    \n",
    "- I risultati ottenuti utilizzando soltanto le feature individuate come più rilevanti sono quindi molto simili a quelli ottenuti utilizzandole tutte\n",
    "    - Le feature scartate in questa fase possono dunque essere considerate circa come \"rumore\"\n",
    "    - Ripetiamo l'analisi, riducendo ulteriormente il numero di feature cosiderate"
   ]
  },
  {
   "cell_type": "code",
   "execution_count": 80,
   "metadata": {},
   "outputs": [
    {
     "name": "stdout",
     "output_type": "stream",
     "text": [
      "Ecco le 5 feature più correlate con l'Aspettativa di Vita:\n",
      "Schooling                       0.727630\n",
      "Incomecompositionofresources    0.721083\n",
      "BMI                             0.542042\n",
      "HIV/AIDS                       -0.592236\n",
      "AdultMortality                 -0.702523\n",
      "Name: Lifeexpectancy, dtype: float64\n"
     ]
    },
    {
     "data": {
      "text/html": [
       "<div>\n",
       "<style scoped>\n",
       "    .dataframe tbody tr th:only-of-type {\n",
       "        vertical-align: middle;\n",
       "    }\n",
       "\n",
       "    .dataframe tbody tr th {\n",
       "        vertical-align: top;\n",
       "    }\n",
       "\n",
       "    .dataframe thead th {\n",
       "        text-align: right;\n",
       "    }\n",
       "</style>\n",
       "<table border=\"1\" class=\"dataframe\">\n",
       "  <thead>\n",
       "    <tr style=\"text-align: right;\">\n",
       "      <th></th>\n",
       "      <th>AdultMortality</th>\n",
       "      <th>BMI</th>\n",
       "      <th>HIV/AIDS</th>\n",
       "      <th>Incomecompositionofresources</th>\n",
       "      <th>Schooling</th>\n",
       "    </tr>\n",
       "  </thead>\n",
       "  <tbody>\n",
       "    <tr>\n",
       "      <th>0</th>\n",
       "      <td>263.0</td>\n",
       "      <td>19.1</td>\n",
       "      <td>0.1</td>\n",
       "      <td>0.479</td>\n",
       "      <td>10.1</td>\n",
       "    </tr>\n",
       "    <tr>\n",
       "      <th>1</th>\n",
       "      <td>271.0</td>\n",
       "      <td>18.6</td>\n",
       "      <td>0.1</td>\n",
       "      <td>0.476</td>\n",
       "      <td>10.0</td>\n",
       "    </tr>\n",
       "    <tr>\n",
       "      <th>2</th>\n",
       "      <td>268.0</td>\n",
       "      <td>18.1</td>\n",
       "      <td>0.1</td>\n",
       "      <td>0.470</td>\n",
       "      <td>9.9</td>\n",
       "    </tr>\n",
       "    <tr>\n",
       "      <th>3</th>\n",
       "      <td>272.0</td>\n",
       "      <td>17.6</td>\n",
       "      <td>0.1</td>\n",
       "      <td>0.463</td>\n",
       "      <td>9.8</td>\n",
       "    </tr>\n",
       "  </tbody>\n",
       "</table>\n",
       "</div>"
      ],
      "text/plain": [
       "   AdultMortality   BMI  HIV/AIDS  Incomecompositionofresources  Schooling\n",
       "0           263.0  19.1       0.1                         0.479       10.1\n",
       "1           271.0  18.6       0.1                         0.476       10.0\n",
       "2           268.0  18.1       0.1                         0.470        9.9\n",
       "3           272.0  17.6       0.1                         0.463        9.8"
      ]
     },
     "execution_count": 80,
     "metadata": {},
     "output_type": "execute_result"
    }
   ],
   "source": [
    "golden_features = df_num_corr[abs(df_num_corr) > 0.50].sort_values(ascending=False)\n",
    "print(\"Ecco le {} feature più correlate con l'Aspettativa di Vita:\\n{}\".format(len(golden_features), golden_features))\n",
    "f_selected = abs(df_num_corr) > 0.50\n",
    "led_selected1 = led[f_selected.index[f_selected]]\n",
    "led_selected1.head(4)"
   ]
  },
  {
   "cell_type": "code",
   "execution_count": 81,
   "metadata": {},
   "outputs": [],
   "source": [
    "X_train_sel, X_val_sel, y_train_sel, y_val_sel = train_test_split(\n",
    "    led_selected1,\n",
    "    led1[\"Lifeexpectancy\"],  \n",
    "    test_size=1/3, random_state=42 \n",
    ")"
   ]
  },
  {
   "cell_type": "code",
   "execution_count": 82,
   "metadata": {},
   "outputs": [
    {
     "name": "stdout",
     "output_type": "stream",
     "text": [
      "   Mean squared error: 8.6356\n",
      "       Relative error: 3.22214%\n",
      "R-squared coefficient: 0.89388\n"
     ]
    }
   ],
   "source": [
    "model_kernelP.fit(X_train_sel, y_train_sel)\n",
    "print_eval(X_val_sel, y_val_sel, model_kernelP)"
   ]
  },
  {
   "cell_type": "markdown",
   "metadata": {},
   "source": [
    "- Confrontando ancora questi valori con quelli ottenuti utilizzando tutte le feature, che erano:\n",
    "    - Mean squared error: 7.678124\t\n",
    "    - Relative error: 2.9344%\t\n",
    "    - R-squared coefficient: 0.905645\n",
    "    \n",
    "- Si ottiene un modello di poco peggiore a quello precedentemente generato ma che fa uso di un numero nettamente inferiore di feature\n",
    "    - Il modello però è decisamente più semplice\n",
    "    - Si sono dunque individuate le feature più rilevanti per la stima dell'aspettativa di vita, che sono in ordine:\n",
    "        - Schooling\n",
    "        - Incomecompositionofresources\n",
    "        - BMI\n",
    "        - HIV/AIDS\n",
    "        - AdultMortality"
   ]
  },
  {
   "cell_type": "code",
   "execution_count": 83,
   "metadata": {},
   "outputs": [
    {
     "name": "stdout",
     "output_type": "stream",
     "text": [
      "   Mean squared error: 8.4574\n",
      "       Relative error: 3.14669%\n",
      "R-squared coefficient: 0.89607\n"
     ]
    }
   ],
   "source": [
    "model_kernelRBF = Pipeline([\n",
    "    (\"scale\", StandardScaler()),\n",
    "    (\"regr\",  KernelRidge(alpha=0.008, kernel=\"rbf\", gamma=0.005))\n",
    "])\n",
    "model_kernelRBF.fit(X_train_sel, y_train_sel)\n",
    "print_eval(X_val_sel, y_val_sel, model_kernelRBF)"
   ]
  },
  {
   "cell_type": "code",
   "execution_count": 84,
   "metadata": {},
   "outputs": [
    {
     "name": "stdout",
     "output_type": "stream",
     "text": [
      "   Mean squared error: 15.382\n",
      "       Relative error: 4.38761%\n",
      "R-squared coefficient: 0.81098\n"
     ]
    }
   ],
   "source": [
    "model_elastic = Pipeline([\n",
    "    (\"scale\",  StandardScaler()),\n",
    "    (\"linreg\", ElasticNet(alpha=0.08, l1_ratio=1))\n",
    "])\n",
    "model_elastic.fit(X_train_sel, y_train_sel)\n",
    "print_eval(X_val_sel, y_val_sel, model_elastic)"
   ]
  },
  {
   "cell_type": "markdown",
   "metadata": {},
   "source": [
    "- Ripetendo l'analisi dei 3 modelli individuati come i più adatti al nostro caso con le poche feature individuate, si conferma di nuovo il risultato ottenuto in precedenza\n",
    "    - Kernel Polinomiale e Kernel RBF forniscono dunque risultati molto simili\n",
    "    - Elastic Net si conferma meno efficace (ma più semplice in quanto lineare)\n",
    "- Essendo in questo caso, il numero di feature utilizzate ancora inferiore al precedente si è realizzata una grossa semplificazione dell'analisi\n",
    "- Si valuta ora la correlazione tra le feature selezionate"
   ]
  },
  {
   "cell_type": "code",
   "execution_count": 85,
   "metadata": {},
   "outputs": [
    {
     "data": {
      "image/png": "[encoded data removed]",
      "text/plain": [
       "<Figure size 720x720 with 2 Axes>"
      ]
     },
     "metadata": {
      "needs_background": "light"
     },
     "output_type": "display_data"
    }
   ],
   "source": [
    "plt.figure(figsize=(10, 10))\n",
    "df_selected = led_selected0.corr()\n",
    "sns.heatmap(df_selected[(df >= 0.5) | (df<= -0.4)], \n",
    "            cmap='viridis', vmax=1.0, vmin=-1.0, linewidths=0.1,\n",
    "            annot=True, annot_kws={\"size\": 8}, square=True);"
   ]
  },
  {
   "cell_type": "markdown",
   "metadata": {},
   "source": [
    "- Analizzano la correlazione tra le feature selezionate, si nota la forte proporzionalità tra \n",
    "    - Schooling e Incomecompositionofresources\n",
    "    - thinness5-9years e thinness1-19years\n",
    "    - GDP e percentageexpenditure\n",
    "- Si ripete dunque l'analisi con Kernel Polinomiale scartando una feature per ognuna delle coppie citate (quella con la correlazione minore rispetto a Life expectancy) prevedendo che il risultato finale non cambierà di troppo\n",
    "- Per non ridurre eccessivamente il numero di feature utilizzate, si riprende dal punto in cui erano state ridotte a 10"
   ]
  },
  {
   "cell_type": "code",
   "execution_count": 86,
   "metadata": {},
   "outputs": [
    {
     "name": "stderr",
     "output_type": "stream",
     "text": [
      "C:\\ProgramData\\Anaconda3\\lib\\site-packages\\pandas\\core\\frame.py:3940: SettingWithCopyWarning: \n",
      "A value is trying to be set on a copy of a slice from a DataFrame\n",
      "\n",
      "See the caveats in the documentation: http://pandas.pydata.org/pandas-docs/stable/indexing.html#indexing-view-versus-copy\n",
      "  errors=errors)\n"
     ]
    },
    {
     "data": {
      "text/html": [
       "<div>\n",
       "<style scoped>\n",
       "    .dataframe tbody tr th:only-of-type {\n",
       "        vertical-align: middle;\n",
       "    }\n",
       "\n",
       "    .dataframe tbody tr th {\n",
       "        vertical-align: top;\n",
       "    }\n",
       "\n",
       "    .dataframe thead th {\n",
       "        text-align: right;\n",
       "    }\n",
       "</style>\n",
       "<table border=\"1\" class=\"dataframe\">\n",
       "  <thead>\n",
       "    <tr style=\"text-align: right;\">\n",
       "      <th></th>\n",
       "      <th>AdultMortality</th>\n",
       "      <th>Alcohol</th>\n",
       "      <th>percentageexpenditure</th>\n",
       "      <th>BMI</th>\n",
       "      <th>HIV/AIDS</th>\n",
       "      <th>thinness1-19years</th>\n",
       "      <th>Schooling</th>\n",
       "    </tr>\n",
       "  </thead>\n",
       "  <tbody>\n",
       "    <tr>\n",
       "      <th>0</th>\n",
       "      <td>263.0</td>\n",
       "      <td>0.01</td>\n",
       "      <td>71.279624</td>\n",
       "      <td>19.1</td>\n",
       "      <td>0.1</td>\n",
       "      <td>17.2</td>\n",
       "      <td>10.1</td>\n",
       "    </tr>\n",
       "    <tr>\n",
       "      <th>1</th>\n",
       "      <td>271.0</td>\n",
       "      <td>0.01</td>\n",
       "      <td>73.523582</td>\n",
       "      <td>18.6</td>\n",
       "      <td>0.1</td>\n",
       "      <td>17.5</td>\n",
       "      <td>10.0</td>\n",
       "    </tr>\n",
       "    <tr>\n",
       "      <th>2</th>\n",
       "      <td>268.0</td>\n",
       "      <td>0.01</td>\n",
       "      <td>73.219243</td>\n",
       "      <td>18.1</td>\n",
       "      <td>0.1</td>\n",
       "      <td>17.7</td>\n",
       "      <td>9.9</td>\n",
       "    </tr>\n",
       "    <tr>\n",
       "      <th>3</th>\n",
       "      <td>272.0</td>\n",
       "      <td>0.01</td>\n",
       "      <td>78.184215</td>\n",
       "      <td>17.6</td>\n",
       "      <td>0.1</td>\n",
       "      <td>17.9</td>\n",
       "      <td>9.8</td>\n",
       "    </tr>\n",
       "    <tr>\n",
       "      <th>4</th>\n",
       "      <td>275.0</td>\n",
       "      <td>0.01</td>\n",
       "      <td>7.097109</td>\n",
       "      <td>17.2</td>\n",
       "      <td>0.1</td>\n",
       "      <td>18.2</td>\n",
       "      <td>9.5</td>\n",
       "    </tr>\n",
       "  </tbody>\n",
       "</table>\n",
       "</div>"
      ],
      "text/plain": [
       "   AdultMortality  Alcohol  percentageexpenditure   BMI  HIV/AIDS  \\\n",
       "0           263.0     0.01              71.279624  19.1       0.1   \n",
       "1           271.0     0.01              73.523582  18.6       0.1   \n",
       "2           268.0     0.01              73.219243  18.1       0.1   \n",
       "3           272.0     0.01              78.184215  17.6       0.1   \n",
       "4           275.0     0.01               7.097109  17.2       0.1   \n",
       "\n",
       "   thinness1-19years  Schooling  \n",
       "0               17.2       10.1  \n",
       "1               17.5       10.0  \n",
       "2               17.7        9.9  \n",
       "3               17.9        9.8  \n",
       "4               18.2        9.5  "
      ]
     },
     "execution_count": 86,
     "metadata": {},
     "output_type": "execute_result"
    }
   ],
   "source": [
    "led_selected0.drop([\"Incomecompositionofresources\", \"thinness5-9years\", \"GDP\"], axis=1, inplace=True)\n",
    "X_train_sel, X_val_sel, y_train_sel, y_val_sel = train_test_split(\n",
    "    led_selected0,\n",
    "    led1[\"Lifeexpectancy\"],  \n",
    "    test_size=1/3, random_state=42 \n",
    ")\n",
    "led_selected0.head(5)"
   ]
  },
  {
   "cell_type": "code",
   "execution_count": 87,
   "metadata": {},
   "outputs": [
    {
     "name": "stdout",
     "output_type": "stream",
     "text": [
      "   Mean squared error: 10.537\n",
      "       Relative error: 3.57741%\n",
      "R-squared coefficient: 0.87051\n"
     ]
    }
   ],
   "source": [
    "model_kernelP.fit(X_train_sel, y_train_sel)\n",
    "print_eval(X_val_sel, y_val_sel, model_kernelP)"
   ]
  },
  {
   "cell_type": "markdown",
   "metadata": {},
   "source": [
    "- Senza queste 3 feature, pur utilizzandone comunque 7 tra le più importanti, il modello risulta notevolmente peggiorato anche rispetto al caso in cui era stato addestrato solo sul 5 feature \n",
    "    - Se ne deduce che la correlazione per le 3 coppie di feature citate non è sufficiente a giustificare la rimozione di una delle stesse (per coppia) dall'analisi, in quanto influisce comunque notevolmente sulla stima della Life expectancy"
   ]
  },
  {
   "cell_type": "markdown",
   "metadata": {},
   "source": [
    "## Confronto con il Gold Standard: Random Forest\n",
    "\n",
    "L'algoritmo Random Forest è un ottimo esempio di ensemble learning, basato sull'aggregazione dei risultati di un insieme di stimatori più semplici. La somma dei risultati forniti da questi è di solito migliore rispetto a quelli forniti dai singoli stimatori. \n",
    "\n",
    "L'overfitting risulta essere una proprietà generale degli alberi decisionali. È infatti molto facile andare troppo in profondità nell'albero e di conseguenza adattarsi ai dettagli dei dati specifici piuttosto che alle proprietà generali delle distribuzioni da cui sono tratti. Noto questo problema, con il Random Forest, ci si avvale della possibilità di combinare più stimatori per ridurre l'effetto di overfitting sopracitato. \n",
    "\n",
    "Questo metodo fa dunque uso di un insieme di stimatori paralleli, ognuno dei quali affetto da overfitting, e ne calcola una media dei risultati per trovare il modello migliore. L'insieme di alberi decisionali randomizzati è noto come Random Forest.\n",
    "In conclusione, si è scelto di utilizzare il Random Forest come modello di riferimento, per paragonare i risultati ottenuti in questo elaborato con un metodo robusto e consolidato."
   ]
  },
  {
   "cell_type": "code",
   "execution_count": 88,
   "metadata": {},
   "outputs": [
    {
     "name": "stdout",
     "output_type": "stream",
     "text": [
      "   Mean squared error: 4.0911\n",
      "       Relative error: 1.84576%\n",
      "R-squared coefficient: 0.94972\n"
     ]
    }
   ],
   "source": [
    "from sklearn.ensemble import RandomForestRegressor # da Piter\n",
    "model_RFR = RandomForestRegressor(n_estimators=1000, n_jobs=-1,)\n",
    "model_RFR.fit(X_train, y_train.ravel())\n",
    "# model_RFR.score(X_train, y_train.ravel())\n",
    "print_eval(X_val, y_val, model_RFR)"
   ]
  },
  {
   "cell_type": "markdown",
   "metadata": {},
   "source": [
    "- I valori ottenuti utilizzando tutte le feature a disposizione, con lo stesso tipo di regressione e gli stessi parametri (trovati tramite la Grid Search) erano:\n",
    "    - Mean squared error: 7.678124\t\n",
    "    - Relative error: 2.9344%\t\n",
    "    - R-squared coefficient: 0.905645"
   ]
  },
  {
   "cell_type": "markdown",
   "metadata": {},
   "source": [
    "I risultati ottenuti tramite la Regressione Kernel Polinomiale non si discostano troppo dall'accuratezza esibita dal modello addestrato tramite Random Forest."
   ]
  }
 ],
 "metadata": {
  "kernelspec": {
   "display_name": "Python 3",
   "language": "python",
   "name": "python3"
  },
  "language_info": {
   "codemirror_mode": {
    "name": "ipython",
    "version": 3
   },
   "file_extension": ".py",
   "mimetype": "text/x-python",
   "name": "python",
   "nbconvert_exporter": "python",
   "pygments_lexer": "ipython3",
   "version": "3.7.3"
  }
 },
 "nbformat": 4,
 "nbformat_minor": 2
}
